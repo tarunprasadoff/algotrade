{
 "cells": [
  {
   "cell_type": "code",
   "execution_count": 84,
   "metadata": {},
   "outputs": [
    {
     "name": "stdout",
     "output_type": "stream",
     "text": [
      "Collecting aiohttp\n",
      "  Downloading aiohttp-3.7.2-cp37-cp37m-win_amd64.whl (627 kB)\n",
      "Collecting async-timeout<4.0,>=3.0\n",
      "  Downloading async_timeout-3.0.1-py3-none-any.whl (8.2 kB)\n",
      "Requirement already satisfied: attrs>=17.3.0 in c:\\users\\user\\anaconda3\\lib\\site-packages (from aiohttp) (20.2.0)\n",
      "Requirement already satisfied: typing-extensions>=3.6.5 in c:\\users\\user\\anaconda3\\lib\\site-packages (from aiohttp) (3.7.4.3)\n",
      "Collecting multidict<7.0,>=4.5\n",
      "  Downloading multidict-5.0.0-cp37-cp37m-win_amd64.whl (48 kB)\n",
      "Collecting yarl<2.0,>=1.0\n",
      "  Downloading yarl-1.6.2-cp37-cp37m-win_amd64.whl (126 kB)\n",
      "Requirement already satisfied: chardet<4.0,>=2.0 in c:\\users\\user\\anaconda3\\lib\\site-packages (from aiohttp) (3.0.4)\n",
      "Requirement already satisfied: idna>=2.0 in c:\\users\\user\\anaconda3\\lib\\site-packages (from yarl<2.0,>=1.0->aiohttp) (2.10)\n",
      "Installing collected packages: async-timeout, multidict, yarl, aiohttp\n",
      "Successfully installed aiohttp-3.7.2 async-timeout-3.0.1 multidict-5.0.0 yarl-1.6.2\n"
     ]
    }
   ],
   "source": [
    "!pip install aiohttp"
   ]
  },
  {
   "cell_type": "code",
   "execution_count": 2,
   "metadata": {},
   "outputs": [],
   "source": [
    "# import csv\n",
    "# import datetime\n",
    "# import re\n",
    "\n",
    "import requests\n",
    "import pandas as pd\n",
    "import arrow\n",
    "import datetime\n",
    "import time\n",
    "import aiohttp\n",
    "import asyncio\n",
    "from bs4 import BeautifulSoup as soup  # HTML data structure\n",
    "from urllib.request import urlopen as uReq  # Web client\n",
    "from selenium import webdriver"
   ]
  },
  {
   "cell_type": "code",
   "execution_count": 7,
   "metadata": {},
   "outputs": [],
   "source": [
    "def get_quote_data(symbol, data_range, data_interval):\n",
    "    symbol = symbol + '.NS'\n",
    "    res = requests.get('https://query1.finance.yahoo.com/v8/finance/chart/{symbol}?range={data_range}&interval={data_interval}'.format(**locals()))\n",
    "    data = res.json()\n",
    "    body = data['chart']['result'][0]    \n",
    "    dt = datetime.datetime\n",
    "    dt = pd.Series(map(lambda x: arrow.get(x).to('Asia/Calcutta').datetime.replace(tzinfo=None), body['timestamp']), name='Datetime')\n",
    "    df = pd.DataFrame(body['indicators']['quote'][0], index=dt)\n",
    "    dg = pd.DataFrame(body['timestamp'])    \n",
    "    df = df.loc[:, ('open', 'high', 'low', 'close', 'volume')]\n",
    "    df.dropna(inplace=True)     #removing NaN rows\n",
    "    df.columns = ['Open', 'High','Low','Close','Volume']    #Renaming columns in pandas\n",
    "    df.index.name = 'Date'\n",
    "    \n",
    "    return df"
   ]
  },
  {
   "cell_type": "code",
   "execution_count": null,
   "metadata": {},
   "outputs": [],
   "source": [
    "i = 0\n",
    "while True:\n",
    "    startTime = time.time()\n",
    "    for comp in company:\n",
    "        try:\n",
    "            get_quote_data(comp,\"30m\",\"5m\")\n",
    "        except Exception as e:\n",
    "            print(\"Error at: \", comp,\" : \",str(e))\n",
    "    print(i, \"Completed in \", (time.time() - startTime), \" seconds.\")\n",
    "    i += 1"
   ]
  },
  {
   "cell_type": "code",
   "execution_count": 2,
   "metadata": {},
   "outputs": [],
   "source": [
    "company = [\n",
    "    \"3MINDIA\", \"AIAENG\", \"APLAPOLLO\", \"AUBANK\", \"AARTIIND\", \"AAVAS\",\n",
    "    \"ABBOTINDIA\", \"ADANIGAS\", \"ADANIGREEN\", \"ADANIPORTS\", \"ADANIPOWER\",\n",
    "    \"ADANITRANS\", \"ABCAPITAL\", \"ABFRL\", \"ADVENZYMES\", \"AEGISCHEM\", \"AFFLE\",\n",
    "    \"AJANTPHARM\", \"AKZOINDIA\", \"APLLTD\", \"ALKEM\", \"ALLCARGO\", \"AMARAJABAT\",\n",
    "    \"AMBER\", \"AMBUJACEM\", \"APOLLOHOSP\", \"APOLLOTYRE\", \"ARVINDFASN\",\n",
    "    \"ASAHIINDIA\", \"ASHOKLEY\", \"ASHOKA\", \"ASIANPAINT\", \"ASTERDM\", \"ASTRAZEN\",\n",
    "    \"ASTRAL\", \"ATUL\", \"AUROPHARMA\", \"AVANTIFEED\", \"DMART\", \"AXISBANK\", \"BASF\",\n",
    "    \"BEML\", \"BSE\", \"BAJAJ-AUTO\", \"BAJAJCON\", \"BAJAJELEC\", \"BAJFINANCE\",\n",
    "    \"BAJAJFINSV\", \"BAJAJHLDNG\", \"BALKRISIND\", \"BALMLAWRIE\", \"BALRAMCHIN\",\n",
    "    \"BANDHANBNK\", \"BANKBARODA\", \"BANKINDIA\", \"MAHABANK\", \"BATAINDIA\",\n",
    "    \"BAYERCROP\", \"BERGEPAINT\", \"BDL\", \"BEL\", \"BHARATFORG\", \"BHEL\", \"BPCL\",\n",
    "    \"BHARTIARTL\", \"INFRATEL\", \"BIOCON\", \"BIRLACORPN\", \"BSOFT\", \"BLISSGVS\",\n",
    "    \"BLUEDART\", \"BLUESTARCO\", \"BBTC\", \"BOMDYEING\", \"BOSCHLTD\", \"BRIGADE\",\n",
    "    \"BRITANNIA\", \"CARERATING\", \"CCL\", \"CESC\", \"CRISIL\", \"CADILAHC\",\n",
    "    \"CANFINHOME\", \"CANBK\", \"CAPLIPOINT\", \"CGCL\", \"CARBORUNIV\", \"CASTROLIND\",\n",
    "    \"CEATLTD\", \"CENTRALBK\", \"CDSL\", \"CENTURYPLY\", \"CERA\", \"CHALET\",\n",
    "    \"CHAMBLFERT\", \"CHENNPETRO\", \"CHOLAHLDNG\", \"CHOLAFIN\", \"CIPLA\", \"CUB\",\n",
    "    \"COALINDIA\", \"COCHINSHIP\", \"COLPAL\", \"CONCOR\", \"COROMANDEL\", \"CREDITACC\",\n",
    "    \"CROMPTON\", \"CUMMINSIND\", \"CYIENT\", \"DBCORP\", \"DCBBANK\", \"DCMSHRIRAM\",\n",
    "    \"DLF\", \"DABUR\", \"DALBHARAT\", \"DEEPAKNTR\", \"DELTACORP\", \"DHFL\", \"DBL\",\n",
    "    \"DISHTV\", \"DCAL\", \"DIVISLAB\", \"DIXON\", \"DRREDDY\", \"LALPATHLAB\", \"ECLERX\",\n",
    "    \"EIDPARRY\", \"EIHOTEL\", \"EDELWEISS\", \"EICHERMOT\", \"ELGIEQUIP\", \"EMAMILTD\",\n",
    "    \"ENDURANCE\", \"ENGINERSIN\", \"EQUITAS\", \"ERIS\", \"ESCORTS\", \"ESSELPACK\",\n",
    "    \"EXIDEIND\", \"FDC\", \"FEDERALBNK\", \"FMGOETZE\", \"FINEORG\", \"FINCABLES\",\n",
    "    \"FINPIPE\", \"FSL\", \"FORTIS\", \"FCONSUMER\", \"FLFL\", \"FRETAIL\", \"GAIL\",\n",
    "    \"GEPIL\", \"GET&D\", \"GHCL\", \"GMRINFRA\", \"GALAXYSURF\", \"GARFIBRES\",\n",
    "    \"GAYAPROJ\", \"GICRE\", \"GILLETTE\", \"GLAXO\", \"GLENMARK\", \"GODFRYPHLP\",\n",
    "    \"GODREJAGRO\", \"GODREJCP\", \"GODREJIND\", \"GODREJPROP\", \"GRANULES\",\n",
    "    \"GRAPHITE\", \"GRASIM\", \"GESHIP\", \"GREAVESCOT\", \"GRINDWELL\", \"GUJALKALI\",\n",
    "    \"GUJGASLTD\", \"GMDCLTD\", \"GNFC\", \"GPPL\", \"GSFC\", \"GSPL\", \"GULFOILLUB\",\n",
    "    \"HEG\", \"HCLTECH\", \"HDFCAMC\", \"HDFCBANK\", \"HDFCLIFE\", \"HFCL\", \"HATSUN\",\n",
    "    \"HAVELLS\", \"HEIDELBERG\", \"HERITGFOOD\", \"HEROMOTOCO\", \"HEXAWARE\", \"HSCL\",\n",
    "    \"HIMATSEIDE\", \"HINDALCO\", \"HAL\", \"HINDCOPPER\", \"HINDPETRO\", \"HINDUNILVR\",\n",
    "    \"HINDZINC\", \"HONAUT\", \"HUDCO\", \"HDFC\", \"ICICIBANK\", \"ICICIGI\",\n",
    "    \"ICICIPRULI\", \"ISEC\", \"ICRA\", \"IDBI\", \"IDFCFIRSTB\", \"IDFC\", \"IFBIND\",\n",
    "    \"IFCI\", \"IIFL\", \"IRB\", \"IRCON\", \"ITC\", \"ITDCEM\", \"ITI\", \"INDIACEM\", \"ITDC\",\n",
    "    \"IBULHSGFIN\", \"IBULISL\", \"IBREALEST\", \"IBVENTURES\", \"INDIAMART\", \"INDIANB\",\n",
    "    \"IEX\", \"INDHOTEL\", \"IOC\", \"IOB\", \"INDOSTAR\", \"IGL\", \"INDUSINDBK\",\n",
    "    \"INFIBEAM\", \"NAUKRI\", \"INFY\", \"INOXLEISUR\", \"INTELLECT\", \"INDIGO\",\n",
    "    \"IPCALAB\", \"JBCHEPHARM\", \"JKCEMENT\", \"JKLAKSHMI\", \"JKPAPER\", \"JKTYRE\",\n",
    "    \"JMFINANCIL\", \"JSWENERGY\", \"JSWSTEEL\", \"JAGRAN\", \"JAICORPLTD\",\n",
    "    \"JISLJALEQS\", \"J&KBANK\", \"JAMNAAUTO\", \"JINDALSAW\", \"JSLHISAR\", \"JSL\",\n",
    "    \"JINDALSTEL\", \"JCHAC\", \"JUBLFOOD\", \"JUBILANT\", \"JUSTDIAL\", \"JYOTHYLAB\",\n",
    "    \"KPRMILL\", \"KEI\", \"KNRCON\", \"KPITTECH\", \"KRBL\", \"KAJARIACER\", \"KALPATPOWR\",\n",
    "    \"KANSAINER\", \"KTKBANK\", \"KARURVYSYA\", \"KSCL\", \"KEC\", \"KENNAMET\",\n",
    "    \"KIRLOSENG\", \"KOLTEPATIL\", \"KOTAKBANK\", \"L&TFH\", \"LTTS\", \"LICHSGFIN\",\n",
    "    \"LAXMIMACH\", \"LAKSHVILAS\", \"LTI\", \"LT\", \"LAURUSLABS\", \"LEMONTREE\",\n",
    "    \"LINDEINDIA\", \"LUPIN\", \"LUXIND\", \"MASFIN\", \"MMTC\", \"MOIL\", \"MRF\", \"MAGMA\",\n",
    "    \"MGL\", \"MAHSCOOTER\", \"MAHSEAMLES\", \"M&MFIN\", \"M&M\", \"MAHINDCIE\", \"MHRIL\",\n",
    "    \"MAHLOG\", \"MANAPPURAM\", \"MRPL\", \"MARICO\", \"MARUTI\", \"MFSL\", \"METROPOLIS\",\n",
    "    \"MINDTREE\", \"MINDACORP\", \"MINDAIND\", \"MIDHANI\", \"MOTHERSUMI\", \"MOTILALOFS\",\n",
    "    \"MPHASIS\", \"MCX\", \"MUTHOOTFIN\", \"NATCOPHARM\", \"NBCC\", \"NCC\", \"NESCO\",\n",
    "    \"NHPC\", \"NIITTECH\", \"NLCINDIA\", \"NMDC\", \"NTPC\", \"NH\", \"NATIONALUM\", \"NFL\",\n",
    "    \"NBVENTURES\", \"NAVINFLUOR\", \"NESTLEIND\", \"NETWORK18\", \"NILKAMAL\",\n",
    "    \"NAM-INDIA\", \"OBEROIRLTY\", \"ONGC\", \"OIL\", \"OMAXE\", \"OFSS\", \"ORIENTCEM\",\n",
    "    \"ORIENTELEC\", \"ORIENTREF\", \"PCJEWELLER\", \"PIIND\", \"PNBHOUSING\", \"PNCINFRA\",\n",
    "    \"PTC\", \"PVR\", \"PAGEIND\", \"PARAGMILK\", \"PERSISTENT\", \"PETRONET\", \"PFIZER\",\n",
    "    \"PHILIPCARB\", \"PHOENIXLTD\", \"PIDILITIND\", \"PEL\", \"POLYCAB\", \"PFC\",\n",
    "    \"POWERGRID\", \"PRAJIND\", \"PRESTIGE\", \"PRSMJOHNSN\", \"PGHL\", \"PGHH\", \"PNB\",\n",
    "    \"QUESS\", \"RBLBANK\", \"RECLTD\", \"RITES\", \"RADICO\", \"RVNL\", \"RAIN\",\n",
    "    \"RAJESHEXPO\", \"RALLIS\", \"RCF\", \"RATNAMANI\", \"RAYMOND\", \"REDINGTON\",\n",
    "    \"RELAXO\", \"RELCAPITAL\", \"RELIANCE\", \"RELINFRA\", \"RPOWER\", \"REPCOHOME\",\n",
    "    \"RESPONIND\", \"SHK\", \"SBILIFE\", \"SJVN\", \"SKFINDIA\", \"SRF\", \"SADBHAV\",\n",
    "    \"SANOFI\", \"SCHAEFFLER\", \"SIS\", \"SFL\", \"SHILPAMED\", \"SHOPERSTOP\",\n",
    "    \"SHREECEM\", \"RENUKA\", \"SHRIRAMCIT\", \"SRTRANSFIN\", \"SIEMENS\", \"SOBHA\",\n",
    "    \"SOLARINDS\", \"SONATSOFTW\", \"SOUTHBANK\", \"SPANDANA\", \"SPICEJET\",\n",
    "    \"STARCEMENT\", \"SBIN\", \"SAIL\", \"SWSOLAR\", \"STRTECH\", \"STAR\", \"SUDARSCHEM\",\n",
    "    \"SPARC\", \"SUNPHARMA\", \"SUNTV\", \"SUNCLAYLTD\", \"SUNDARMFIN\", \"SUNDRMFAST\",\n",
    "    \"SUNTECK\", \"SUPRAJIT\", \"SUPREMEIND\", \"SUZLON\", \"SWANENERGY\", \"SYMPHONY\",\n",
    "    \"SYNGENE\", \"TCIEXP\", \"TCNSBRANDS\", \"TTKPRESTIG\", \"TVTODAY\", \"TV18BRDCST\",\n",
    "    \"TVSMOTOR\", \"TAKE\", \"TASTYBITE\", \"TCS\", \"TATACONSUM\", \"TATAELXSI\",\n",
    "    \"TATAINVEST\", \"TATAMTRDVR\", \"TATAMOTORS\", \"TATAPOWER\", \"TATASTLBSL\",\n",
    "    \"TATASTEEL\", \"TEAMLEASE\", \"TECHM\", \"TECHNOE\", \"NIACL\", \"RAMCOCEM\",\n",
    "    \"THERMAX\", \"THYROCARE\", \"TIMETECHNO\", \"TIMKEN\", \"TITAN\", \"TORNTPHARM\",\n",
    "    \"TORNTPOWER\", \"TRENT\", \"TRIDENT\", \"TRITURBINE\", \"TIINDIA\", \"UCOBANK\",\n",
    "    \"UFLEX\", \"UPL\", \"UJJIVAN\", \"ULTRACEMCO\", \"UNIONBANK\", \"UBL\", \"MCDOWELL-N\",\n",
    "    \"VGUARD\", \"VMART\", \"VIPIND\", \"VRLLOG\", \"VSTIND\", \"WABAG\", \"VAIBHAVGBL\",\n",
    "    \"VAKRANGEE\", \"VTL\", \"VARROC\", \"VBL\", \"VEDL\", \"VENKEYS\", \"VINATIORGA\",\n",
    "    \"IDEA\", \"VOLTAS\", \"WABCOINDIA\", \"WELCORP\", \"WELSPUNIND\", \"WESTLIFE\",\n",
    "    \"WHIRLPOOL\", \"WIPRO\", \"WOCKPHARMA\", \"ZEEL\", \"ZENSARTECH\", \"ZYDUSWELL\"\n",
    "]"
   ]
  },
  {
   "cell_type": "code",
   "execution_count": null,
   "metadata": {},
   "outputs": [
    {
     "name": "stdout",
     "output_type": "stream",
     "text": [
      "{}\n"
     ]
    }
   ],
   "source": [
    "session = requests.Session()\n",
    "print(session.cookies.get_dict())\n",
    "session.get('https://nseindia.com')\n",
    "print(session.cookies.get_dict())"
   ]
  },
  {
   "cell_type": "code",
   "execution_count": null,
   "metadata": {},
   "outputs": [
    {
     "name": "stdout",
     "output_type": "stream",
     "text": [
      "3MINDIA\n"
     ]
    }
   ],
   "source": [
    "for com in company:\n",
    "    print(com)\n",
    "    uClient = uReq(\"https://www.nseindia.com/get-quotes/equity?symbol=\" + com)\n",
    "    page_soup = soup(uClient.read(), \"html.parser\")"
   ]
  },
  {
   "cell_type": "code",
   "execution_count": null,
   "metadata": {},
   "outputs": [],
   "source": [
    "requests.get(\"https://www.nseindia.com/api/quote-equity?symbol=RELIANCE&section=trade_info\")"
   ]
  },
  {
   "cell_type": "code",
   "execution_count": 3,
   "metadata": {},
   "outputs": [
    {
     "data": {
      "text/plain": [
       "<Response [200]>"
      ]
     },
     "execution_count": 3,
     "metadata": {},
     "output_type": "execute_result"
    }
   ],
   "source": [
    "requests.get(\"https://www.themoviedb.org/tv/1-pride\")"
   ]
  },
  {
   "cell_type": "code",
   "execution_count": 3,
   "metadata": {},
   "outputs": [],
   "source": [
    "PATH = \"C:\\Program Files (x86)\\chromedriver.exe\""
   ]
  },
  {
   "cell_type": "code",
   "execution_count": 47,
   "metadata": {},
   "outputs": [],
   "source": [
    "driver = webdriver.Chrome(PATH)\n",
    "driver.get(\"https://www.nseindia.com/get-quotes/equity?symbol=3MINDIA\")"
   ]
  },
  {
   "cell_type": "code",
   "execution_count": 48,
   "metadata": {},
   "outputs": [],
   "source": [
    "buy = [{\"price\":None,\"qty\":None},{\"price\":None,\"qty\":None},{\"price\":None,\"qty\":None},{\"price\":None,\"qty\":None},{\"price\":None,\"qty\":None}]\n",
    "sell = [{\"price\":None,\"qty\":None},{\"price\":None,\"qty\":None},{\"price\":None,\"qty\":None},{\"price\":None,\"qty\":None},{\"price\":None,\"qty\":None}]"
   ]
  },
  {
   "cell_type": "code",
   "execution_count": 49,
   "metadata": {},
   "outputs": [],
   "source": [
    "i = 0\n",
    "for tex in (driver.find_element_by_id(\"marketDepthTable\").find_element_by_tag_name(\"tbody\").find_elements_by_tag_name(\"tr\")):\n",
    "    tds = tex.find_elements_by_tag_name(\"td\")\n",
    "    buy[i][\"price\"] = tds[0].text\n",
    "    buy[i][\"qty\"] = tds[1].text\n",
    "    sell[i][\"price\"] = tds[2].text\n",
    "    sell[i][\"qty\"] = tds[3].text\n",
    "    i+=1"
   ]
  },
  {
   "cell_type": "code",
   "execution_count": 15,
   "metadata": {},
   "outputs": [
    {
     "data": {
      "text/plain": [
       "[]"
      ]
     },
     "execution_count": 15,
     "metadata": {},
     "output_type": "execute_result"
    }
   ],
   "source": [
    "driver.find_element_by_id(\"marketDepthTable\").find_elements_by_tag_name(\"tr\")[0].find_elements_by_tag_name(\"td\")"
   ]
  },
  {
   "cell_type": "code",
   "execution_count": 4,
   "metadata": {},
   "outputs": [],
   "source": [
    "def getPrice(price):\n",
    "    if (price == \"-\" or price == \"\" or price == None):\n",
    "        return None\n",
    "    else:\n",
    "        return float(price.replace(\",\",\"\"))\n",
    "    \n",
    "def getQty(qty):\n",
    "    if (qty == \"-\" or qty == \"\" or qty == None):\n",
    "        return None\n",
    "    else:\n",
    "        return int(qty.replace(\",\",\"\"))"
   ]
  },
  {
   "cell_type": "code",
   "execution_count": 17,
   "metadata": {},
   "outputs": [
    {
     "data": {
      "text/plain": [
       "1604949347.8904877"
      ]
     },
     "execution_count": 17,
     "metadata": {},
     "output_type": "execute_result"
    }
   ],
   "source": [
    "time.time()"
   ]
  },
  {
   "cell_type": "code",
   "execution_count": 46,
   "metadata": {},
   "outputs": [],
   "source": [
    "def getCookies(ticker):\n",
    "    while(True):\n",
    "        dri = webdriver.Chrome(PATH)\n",
    "        dri.get('https://www.nseindia.com/get-quotes/equity?symbol=' + ticker)\n",
    "        time.sleep(1)\n",
    "        try:\n",
    "            dri.find_element_by_id(\"marketDepthTable\").find_element_by_tag_name(\"tbody\")\n",
    "            cookies = dri.get_cookies()\n",
    "            dri.quit()\n",
    "            break\n",
    "        except Exception as e:\n",
    "            print(\"Get Cookie Error: \",e)\n",
    "            dri.quit()\n",
    "            time.sleep(4)\n",
    "    return cookies"
   ]
  },
  {
   "cell_type": "code",
   "execution_count": 6,
   "metadata": {},
   "outputs": [
    {
     "ename": "NoSuchElementException",
     "evalue": "Message: no such element: Unable to locate element: {\"method\":\"css selector\",\"selector\":\"tbody\"}\n  (Session info: chrome=86.0.4240.183)\n",
     "output_type": "error",
     "traceback": [
      "\u001b[1;31m---------------------------------------------------------------------------\u001b[0m",
      "\u001b[1;31mNoSuchElementException\u001b[0m                    Traceback (most recent call last)",
      "\u001b[1;32m<ipython-input-6-e38ca538292a>\u001b[0m in \u001b[0;36m<module>\u001b[1;34m\u001b[0m\n\u001b[1;32m----> 1\u001b[1;33m \u001b[0mdri\u001b[0m\u001b[1;33m.\u001b[0m\u001b[0mfind_element_by_id\u001b[0m\u001b[1;33m(\u001b[0m\u001b[1;34m\"marketDepthTable\"\u001b[0m\u001b[1;33m)\u001b[0m\u001b[1;33m.\u001b[0m\u001b[0mfind_element_by_tag_name\u001b[0m\u001b[1;33m(\u001b[0m\u001b[1;34m\"tbody\"\u001b[0m\u001b[1;33m)\u001b[0m\u001b[1;33m\u001b[0m\u001b[1;33m\u001b[0m\u001b[0m\n\u001b[0m",
      "\u001b[1;32m~\\Anaconda3\\lib\\site-packages\\selenium\\webdriver\\remote\\webelement.py\u001b[0m in \u001b[0;36mfind_element_by_tag_name\u001b[1;34m(self, name)\u001b[0m\n\u001b[0;32m    303\u001b[0m             \u001b[0melement\u001b[0m \u001b[1;33m=\u001b[0m \u001b[0melement\u001b[0m\u001b[1;33m.\u001b[0m\u001b[0mfind_element_by_tag_name\u001b[0m\u001b[1;33m(\u001b[0m\u001b[1;34m'h1'\u001b[0m\u001b[1;33m)\u001b[0m\u001b[1;33m\u001b[0m\u001b[1;33m\u001b[0m\u001b[0m\n\u001b[0;32m    304\u001b[0m         \"\"\"\n\u001b[1;32m--> 305\u001b[1;33m         \u001b[1;32mreturn\u001b[0m \u001b[0mself\u001b[0m\u001b[1;33m.\u001b[0m\u001b[0mfind_element\u001b[0m\u001b[1;33m(\u001b[0m\u001b[0mby\u001b[0m\u001b[1;33m=\u001b[0m\u001b[0mBy\u001b[0m\u001b[1;33m.\u001b[0m\u001b[0mTAG_NAME\u001b[0m\u001b[1;33m,\u001b[0m \u001b[0mvalue\u001b[0m\u001b[1;33m=\u001b[0m\u001b[0mname\u001b[0m\u001b[1;33m)\u001b[0m\u001b[1;33m\u001b[0m\u001b[1;33m\u001b[0m\u001b[0m\n\u001b[0m\u001b[0;32m    306\u001b[0m \u001b[1;33m\u001b[0m\u001b[0m\n\u001b[0;32m    307\u001b[0m     \u001b[1;32mdef\u001b[0m \u001b[0mfind_elements_by_tag_name\u001b[0m\u001b[1;33m(\u001b[0m\u001b[0mself\u001b[0m\u001b[1;33m,\u001b[0m \u001b[0mname\u001b[0m\u001b[1;33m)\u001b[0m\u001b[1;33m:\u001b[0m\u001b[1;33m\u001b[0m\u001b[1;33m\u001b[0m\u001b[0m\n",
      "\u001b[1;32m~\\Anaconda3\\lib\\site-packages\\selenium\\webdriver\\remote\\webelement.py\u001b[0m in \u001b[0;36mfind_element\u001b[1;34m(self, by, value)\u001b[0m\n\u001b[0;32m    657\u001b[0m \u001b[1;33m\u001b[0m\u001b[0m\n\u001b[0;32m    658\u001b[0m         return self._execute(Command.FIND_CHILD_ELEMENT,\n\u001b[1;32m--> 659\u001b[1;33m                              {\"using\": by, \"value\": value})['value']\n\u001b[0m\u001b[0;32m    660\u001b[0m \u001b[1;33m\u001b[0m\u001b[0m\n\u001b[0;32m    661\u001b[0m     \u001b[1;32mdef\u001b[0m \u001b[0mfind_elements\u001b[0m\u001b[1;33m(\u001b[0m\u001b[0mself\u001b[0m\u001b[1;33m,\u001b[0m \u001b[0mby\u001b[0m\u001b[1;33m=\u001b[0m\u001b[0mBy\u001b[0m\u001b[1;33m.\u001b[0m\u001b[0mID\u001b[0m\u001b[1;33m,\u001b[0m \u001b[0mvalue\u001b[0m\u001b[1;33m=\u001b[0m\u001b[1;32mNone\u001b[0m\u001b[1;33m)\u001b[0m\u001b[1;33m:\u001b[0m\u001b[1;33m\u001b[0m\u001b[1;33m\u001b[0m\u001b[0m\n",
      "\u001b[1;32m~\\Anaconda3\\lib\\site-packages\\selenium\\webdriver\\remote\\webelement.py\u001b[0m in \u001b[0;36m_execute\u001b[1;34m(self, command, params)\u001b[0m\n\u001b[0;32m    631\u001b[0m             \u001b[0mparams\u001b[0m \u001b[1;33m=\u001b[0m \u001b[1;33m{\u001b[0m\u001b[1;33m}\u001b[0m\u001b[1;33m\u001b[0m\u001b[1;33m\u001b[0m\u001b[0m\n\u001b[0;32m    632\u001b[0m         \u001b[0mparams\u001b[0m\u001b[1;33m[\u001b[0m\u001b[1;34m'id'\u001b[0m\u001b[1;33m]\u001b[0m \u001b[1;33m=\u001b[0m \u001b[0mself\u001b[0m\u001b[1;33m.\u001b[0m\u001b[0m_id\u001b[0m\u001b[1;33m\u001b[0m\u001b[1;33m\u001b[0m\u001b[0m\n\u001b[1;32m--> 633\u001b[1;33m         \u001b[1;32mreturn\u001b[0m \u001b[0mself\u001b[0m\u001b[1;33m.\u001b[0m\u001b[0m_parent\u001b[0m\u001b[1;33m.\u001b[0m\u001b[0mexecute\u001b[0m\u001b[1;33m(\u001b[0m\u001b[0mcommand\u001b[0m\u001b[1;33m,\u001b[0m \u001b[0mparams\u001b[0m\u001b[1;33m)\u001b[0m\u001b[1;33m\u001b[0m\u001b[1;33m\u001b[0m\u001b[0m\n\u001b[0m\u001b[0;32m    634\u001b[0m \u001b[1;33m\u001b[0m\u001b[0m\n\u001b[0;32m    635\u001b[0m     \u001b[1;32mdef\u001b[0m \u001b[0mfind_element\u001b[0m\u001b[1;33m(\u001b[0m\u001b[0mself\u001b[0m\u001b[1;33m,\u001b[0m \u001b[0mby\u001b[0m\u001b[1;33m=\u001b[0m\u001b[0mBy\u001b[0m\u001b[1;33m.\u001b[0m\u001b[0mID\u001b[0m\u001b[1;33m,\u001b[0m \u001b[0mvalue\u001b[0m\u001b[1;33m=\u001b[0m\u001b[1;32mNone\u001b[0m\u001b[1;33m)\u001b[0m\u001b[1;33m:\u001b[0m\u001b[1;33m\u001b[0m\u001b[1;33m\u001b[0m\u001b[0m\n",
      "\u001b[1;32m~\\Anaconda3\\lib\\site-packages\\selenium\\webdriver\\remote\\webdriver.py\u001b[0m in \u001b[0;36mexecute\u001b[1;34m(self, driver_command, params)\u001b[0m\n\u001b[0;32m    319\u001b[0m         \u001b[0mresponse\u001b[0m \u001b[1;33m=\u001b[0m \u001b[0mself\u001b[0m\u001b[1;33m.\u001b[0m\u001b[0mcommand_executor\u001b[0m\u001b[1;33m.\u001b[0m\u001b[0mexecute\u001b[0m\u001b[1;33m(\u001b[0m\u001b[0mdriver_command\u001b[0m\u001b[1;33m,\u001b[0m \u001b[0mparams\u001b[0m\u001b[1;33m)\u001b[0m\u001b[1;33m\u001b[0m\u001b[1;33m\u001b[0m\u001b[0m\n\u001b[0;32m    320\u001b[0m         \u001b[1;32mif\u001b[0m \u001b[0mresponse\u001b[0m\u001b[1;33m:\u001b[0m\u001b[1;33m\u001b[0m\u001b[1;33m\u001b[0m\u001b[0m\n\u001b[1;32m--> 321\u001b[1;33m             \u001b[0mself\u001b[0m\u001b[1;33m.\u001b[0m\u001b[0merror_handler\u001b[0m\u001b[1;33m.\u001b[0m\u001b[0mcheck_response\u001b[0m\u001b[1;33m(\u001b[0m\u001b[0mresponse\u001b[0m\u001b[1;33m)\u001b[0m\u001b[1;33m\u001b[0m\u001b[1;33m\u001b[0m\u001b[0m\n\u001b[0m\u001b[0;32m    322\u001b[0m             response['value'] = self._unwrap_value(\n\u001b[0;32m    323\u001b[0m                 response.get('value', None))\n",
      "\u001b[1;32m~\\Anaconda3\\lib\\site-packages\\selenium\\webdriver\\remote\\errorhandler.py\u001b[0m in \u001b[0;36mcheck_response\u001b[1;34m(self, response)\u001b[0m\n\u001b[0;32m    240\u001b[0m                 \u001b[0malert_text\u001b[0m \u001b[1;33m=\u001b[0m \u001b[0mvalue\u001b[0m\u001b[1;33m[\u001b[0m\u001b[1;34m'alert'\u001b[0m\u001b[1;33m]\u001b[0m\u001b[1;33m.\u001b[0m\u001b[0mget\u001b[0m\u001b[1;33m(\u001b[0m\u001b[1;34m'text'\u001b[0m\u001b[1;33m)\u001b[0m\u001b[1;33m\u001b[0m\u001b[1;33m\u001b[0m\u001b[0m\n\u001b[0;32m    241\u001b[0m             \u001b[1;32mraise\u001b[0m \u001b[0mexception_class\u001b[0m\u001b[1;33m(\u001b[0m\u001b[0mmessage\u001b[0m\u001b[1;33m,\u001b[0m \u001b[0mscreen\u001b[0m\u001b[1;33m,\u001b[0m \u001b[0mstacktrace\u001b[0m\u001b[1;33m,\u001b[0m \u001b[0malert_text\u001b[0m\u001b[1;33m)\u001b[0m\u001b[1;33m\u001b[0m\u001b[1;33m\u001b[0m\u001b[0m\n\u001b[1;32m--> 242\u001b[1;33m         \u001b[1;32mraise\u001b[0m \u001b[0mexception_class\u001b[0m\u001b[1;33m(\u001b[0m\u001b[0mmessage\u001b[0m\u001b[1;33m,\u001b[0m \u001b[0mscreen\u001b[0m\u001b[1;33m,\u001b[0m \u001b[0mstacktrace\u001b[0m\u001b[1;33m)\u001b[0m\u001b[1;33m\u001b[0m\u001b[1;33m\u001b[0m\u001b[0m\n\u001b[0m\u001b[0;32m    243\u001b[0m \u001b[1;33m\u001b[0m\u001b[0m\n\u001b[0;32m    244\u001b[0m     \u001b[1;32mdef\u001b[0m \u001b[0m_value_or_default\u001b[0m\u001b[1;33m(\u001b[0m\u001b[0mself\u001b[0m\u001b[1;33m,\u001b[0m \u001b[0mobj\u001b[0m\u001b[1;33m,\u001b[0m \u001b[0mkey\u001b[0m\u001b[1;33m,\u001b[0m \u001b[0mdefault\u001b[0m\u001b[1;33m)\u001b[0m\u001b[1;33m:\u001b[0m\u001b[1;33m\u001b[0m\u001b[1;33m\u001b[0m\u001b[0m\n",
      "\u001b[1;31mNoSuchElementException\u001b[0m: Message: no such element: Unable to locate element: {\"method\":\"css selector\",\"selector\":\"tbody\"}\n  (Session info: chrome=86.0.4240.183)\n"
     ]
    }
   ],
   "source": [
    "try:\n",
    "    dri.find_element_by_id(\"marketDepthTable\").find_element_by_tag_name(\"tbody\")\n",
    "    done = true\n",
    "except:\n",
    "    time.sleep(3)"
   ]
  },
  {
   "cell_type": "code",
   "execution_count": null,
   "metadata": {},
   "outputs": [],
   "source": [
    "s = requests.Session()\n",
    "s = requests.Session()\n",
    "for cookie in cookies:\n",
    "    s.cookies.set(cookie['name'], cookie['value'])\n",
    "s.get('https://www.nseindia.com/api/quote-equity?symbol=RELIANCE&section=trade_info')"
   ]
  },
  {
   "cell_type": "code",
   "execution_count": 6,
   "metadata": {},
   "outputs": [
    {
     "ename": "TypeError",
     "evalue": "list indices must be integers or slices, not dict",
     "output_type": "error",
     "traceback": [
      "\u001b[1;31m---------------------------------------------------------------------------\u001b[0m",
      "\u001b[1;31mTypeError\u001b[0m                                 Traceback (most recent call last)",
      "\u001b[1;32m<ipython-input-6-a87644874bf9>\u001b[0m in \u001b[0;36m<module>\u001b[1;34m\u001b[0m\n\u001b[1;32m----> 1\u001b[1;33m \u001b[0mrequests\u001b[0m\u001b[1;33m.\u001b[0m\u001b[0mget\u001b[0m\u001b[1;33m(\u001b[0m\u001b[1;34m'https://nseindia.com'\u001b[0m\u001b[1;33m,\u001b[0m \u001b[0mcookies\u001b[0m\u001b[1;33m=\u001b[0m\u001b[0mcookies\u001b[0m\u001b[1;33m)\u001b[0m\u001b[1;33m\u001b[0m\u001b[1;33m\u001b[0m\u001b[0m\n\u001b[0m",
      "\u001b[1;32m~\\Anaconda3\\lib\\site-packages\\requests\\api.py\u001b[0m in \u001b[0;36mget\u001b[1;34m(url, params, **kwargs)\u001b[0m\n\u001b[0;32m     74\u001b[0m \u001b[1;33m\u001b[0m\u001b[0m\n\u001b[0;32m     75\u001b[0m     \u001b[0mkwargs\u001b[0m\u001b[1;33m.\u001b[0m\u001b[0msetdefault\u001b[0m\u001b[1;33m(\u001b[0m\u001b[1;34m'allow_redirects'\u001b[0m\u001b[1;33m,\u001b[0m \u001b[1;32mTrue\u001b[0m\u001b[1;33m)\u001b[0m\u001b[1;33m\u001b[0m\u001b[1;33m\u001b[0m\u001b[0m\n\u001b[1;32m---> 76\u001b[1;33m     \u001b[1;32mreturn\u001b[0m \u001b[0mrequest\u001b[0m\u001b[1;33m(\u001b[0m\u001b[1;34m'get'\u001b[0m\u001b[1;33m,\u001b[0m \u001b[0murl\u001b[0m\u001b[1;33m,\u001b[0m \u001b[0mparams\u001b[0m\u001b[1;33m=\u001b[0m\u001b[0mparams\u001b[0m\u001b[1;33m,\u001b[0m \u001b[1;33m**\u001b[0m\u001b[0mkwargs\u001b[0m\u001b[1;33m)\u001b[0m\u001b[1;33m\u001b[0m\u001b[1;33m\u001b[0m\u001b[0m\n\u001b[0m\u001b[0;32m     77\u001b[0m \u001b[1;33m\u001b[0m\u001b[0m\n\u001b[0;32m     78\u001b[0m \u001b[1;33m\u001b[0m\u001b[0m\n",
      "\u001b[1;32m~\\Anaconda3\\lib\\site-packages\\requests\\api.py\u001b[0m in \u001b[0;36mrequest\u001b[1;34m(method, url, **kwargs)\u001b[0m\n\u001b[0;32m     59\u001b[0m     \u001b[1;31m# cases, and look like a memory leak in others.\u001b[0m\u001b[1;33m\u001b[0m\u001b[1;33m\u001b[0m\u001b[1;33m\u001b[0m\u001b[0m\n\u001b[0;32m     60\u001b[0m     \u001b[1;32mwith\u001b[0m \u001b[0msessions\u001b[0m\u001b[1;33m.\u001b[0m\u001b[0mSession\u001b[0m\u001b[1;33m(\u001b[0m\u001b[1;33m)\u001b[0m \u001b[1;32mas\u001b[0m \u001b[0msession\u001b[0m\u001b[1;33m:\u001b[0m\u001b[1;33m\u001b[0m\u001b[1;33m\u001b[0m\u001b[0m\n\u001b[1;32m---> 61\u001b[1;33m         \u001b[1;32mreturn\u001b[0m \u001b[0msession\u001b[0m\u001b[1;33m.\u001b[0m\u001b[0mrequest\u001b[0m\u001b[1;33m(\u001b[0m\u001b[0mmethod\u001b[0m\u001b[1;33m=\u001b[0m\u001b[0mmethod\u001b[0m\u001b[1;33m,\u001b[0m \u001b[0murl\u001b[0m\u001b[1;33m=\u001b[0m\u001b[0murl\u001b[0m\u001b[1;33m,\u001b[0m \u001b[1;33m**\u001b[0m\u001b[0mkwargs\u001b[0m\u001b[1;33m)\u001b[0m\u001b[1;33m\u001b[0m\u001b[1;33m\u001b[0m\u001b[0m\n\u001b[0m\u001b[0;32m     62\u001b[0m \u001b[1;33m\u001b[0m\u001b[0m\n\u001b[0;32m     63\u001b[0m \u001b[1;33m\u001b[0m\u001b[0m\n",
      "\u001b[1;32m~\\Anaconda3\\lib\\site-packages\\requests\\sessions.py\u001b[0m in \u001b[0;36mrequest\u001b[1;34m(self, method, url, params, data, headers, cookies, files, auth, timeout, allow_redirects, proxies, hooks, stream, verify, cert, json)\u001b[0m\n\u001b[0;32m    514\u001b[0m             \u001b[0mhooks\u001b[0m\u001b[1;33m=\u001b[0m\u001b[0mhooks\u001b[0m\u001b[1;33m,\u001b[0m\u001b[1;33m\u001b[0m\u001b[1;33m\u001b[0m\u001b[0m\n\u001b[0;32m    515\u001b[0m         )\n\u001b[1;32m--> 516\u001b[1;33m         \u001b[0mprep\u001b[0m \u001b[1;33m=\u001b[0m \u001b[0mself\u001b[0m\u001b[1;33m.\u001b[0m\u001b[0mprepare_request\u001b[0m\u001b[1;33m(\u001b[0m\u001b[0mreq\u001b[0m\u001b[1;33m)\u001b[0m\u001b[1;33m\u001b[0m\u001b[1;33m\u001b[0m\u001b[0m\n\u001b[0m\u001b[0;32m    517\u001b[0m \u001b[1;33m\u001b[0m\u001b[0m\n\u001b[0;32m    518\u001b[0m         \u001b[0mproxies\u001b[0m \u001b[1;33m=\u001b[0m \u001b[0mproxies\u001b[0m \u001b[1;32mor\u001b[0m \u001b[1;33m{\u001b[0m\u001b[1;33m}\u001b[0m\u001b[1;33m\u001b[0m\u001b[1;33m\u001b[0m\u001b[0m\n",
      "\u001b[1;32m~\\Anaconda3\\lib\\site-packages\\requests\\sessions.py\u001b[0m in \u001b[0;36mprepare_request\u001b[1;34m(self, request)\u001b[0m\n\u001b[0;32m    435\u001b[0m         \u001b[1;31m# Bootstrap CookieJar.\u001b[0m\u001b[1;33m\u001b[0m\u001b[1;33m\u001b[0m\u001b[1;33m\u001b[0m\u001b[0m\n\u001b[0;32m    436\u001b[0m         \u001b[1;32mif\u001b[0m \u001b[1;32mnot\u001b[0m \u001b[0misinstance\u001b[0m\u001b[1;33m(\u001b[0m\u001b[0mcookies\u001b[0m\u001b[1;33m,\u001b[0m \u001b[0mcookielib\u001b[0m\u001b[1;33m.\u001b[0m\u001b[0mCookieJar\u001b[0m\u001b[1;33m)\u001b[0m\u001b[1;33m:\u001b[0m\u001b[1;33m\u001b[0m\u001b[1;33m\u001b[0m\u001b[0m\n\u001b[1;32m--> 437\u001b[1;33m             \u001b[0mcookies\u001b[0m \u001b[1;33m=\u001b[0m \u001b[0mcookiejar_from_dict\u001b[0m\u001b[1;33m(\u001b[0m\u001b[0mcookies\u001b[0m\u001b[1;33m)\u001b[0m\u001b[1;33m\u001b[0m\u001b[1;33m\u001b[0m\u001b[0m\n\u001b[0m\u001b[0;32m    438\u001b[0m \u001b[1;33m\u001b[0m\u001b[0m\n\u001b[0;32m    439\u001b[0m         \u001b[1;31m# Merge with session cookies\u001b[0m\u001b[1;33m\u001b[0m\u001b[1;33m\u001b[0m\u001b[1;33m\u001b[0m\u001b[0m\n",
      "\u001b[1;32m~\\Anaconda3\\lib\\site-packages\\requests\\cookies.py\u001b[0m in \u001b[0;36mcookiejar_from_dict\u001b[1;34m(cookie_dict, cookiejar, overwrite)\u001b[0m\n\u001b[0;32m    522\u001b[0m         \u001b[1;32mfor\u001b[0m \u001b[0mname\u001b[0m \u001b[1;32min\u001b[0m \u001b[0mcookie_dict\u001b[0m\u001b[1;33m:\u001b[0m\u001b[1;33m\u001b[0m\u001b[1;33m\u001b[0m\u001b[0m\n\u001b[0;32m    523\u001b[0m             \u001b[1;32mif\u001b[0m \u001b[0moverwrite\u001b[0m \u001b[1;32mor\u001b[0m \u001b[1;33m(\u001b[0m\u001b[0mname\u001b[0m \u001b[1;32mnot\u001b[0m \u001b[1;32min\u001b[0m \u001b[0mnames_from_jar\u001b[0m\u001b[1;33m)\u001b[0m\u001b[1;33m:\u001b[0m\u001b[1;33m\u001b[0m\u001b[1;33m\u001b[0m\u001b[0m\n\u001b[1;32m--> 524\u001b[1;33m                 \u001b[0mcookiejar\u001b[0m\u001b[1;33m.\u001b[0m\u001b[0mset_cookie\u001b[0m\u001b[1;33m(\u001b[0m\u001b[0mcreate_cookie\u001b[0m\u001b[1;33m(\u001b[0m\u001b[0mname\u001b[0m\u001b[1;33m,\u001b[0m \u001b[0mcookie_dict\u001b[0m\u001b[1;33m[\u001b[0m\u001b[0mname\u001b[0m\u001b[1;33m]\u001b[0m\u001b[1;33m)\u001b[0m\u001b[1;33m)\u001b[0m\u001b[1;33m\u001b[0m\u001b[1;33m\u001b[0m\u001b[0m\n\u001b[0m\u001b[0;32m    525\u001b[0m \u001b[1;33m\u001b[0m\u001b[0m\n\u001b[0;32m    526\u001b[0m     \u001b[1;32mreturn\u001b[0m \u001b[0mcookiejar\u001b[0m\u001b[1;33m\u001b[0m\u001b[1;33m\u001b[0m\u001b[0m\n",
      "\u001b[1;31mTypeError\u001b[0m: list indices must be integers or slices, not dict"
     ]
    }
   ],
   "source": [
    "requests.get('https://nseindia.com', cookies=cookies)"
   ]
  },
  {
   "cell_type": "code",
   "execution_count": 6,
   "metadata": {},
   "outputs": [],
   "source": [
    "def getDepth(ticker):\n",
    "#     op = webdriver.ChromeOptions()\n",
    "#     op.add_argument('headless')\n",
    "#     op.add_argument('window-size=1200x600')\n",
    "#     driver = webdriver.Chrome(PATH, options=op)\n",
    "    driver = webdriver.Chrome(PATH)\n",
    "    driver.get('https://www.nseindia.com/get-quotes/equity?symbol=' + ticker)\n",
    "    for cookie in cookies:\n",
    "        driver.add_cookie(cookie)\n",
    "    driver.refresh()\n",
    "    buy = [{\"price\":None,\"qty\":None},{\"price\":None,\"qty\":None},{\"price\":None,\"qty\":None},{\"price\":None,\"qty\":None},{\"price\":None,\"qty\":None}]\n",
    "    sell = [{\"price\":None,\"qty\":None},{\"price\":None,\"qty\":None},{\"price\":None,\"qty\":None},{\"price\":None,\"qty\":None},{\"price\":None,\"qty\":None}] \n",
    "    i = 0\n",
    "    time.sleep(2)\n",
    "    for tex in (driver.find_element_by_id(\"marketDepthTable\").find_element_by_tag_name(\"tbody\").find_elements_by_tag_name(\"tr\")):\n",
    "        tds = tex.find_elements_by_tag_name(\"td\")\n",
    "        buy[i][\"price\"] = getQty(tds[0].text)\n",
    "        buy[i][\"qty\"] = getPrice(tds[1].text)\n",
    "        sell[i][\"price\"] = getPrice(tds[2].text)\n",
    "        sell[i][\"qty\"] = getQty(tds[3].text)\n",
    "        i+=1\n",
    "    print(ticker + ': ',sell[0])\n",
    "    driver.quit()"
   ]
  },
  {
   "cell_type": "code",
   "execution_count": 47,
   "metadata": {},
   "outputs": [],
   "source": [
    "def getAskDepth(ticker):\n",
    "    driv = webdriver.Chrome(PATH)\n",
    "    driv.get('https://www.nseindia.com/api/quote-equity?symbol=' + ticker + '&section=trade_info')\n",
    "    for cookie in getCookies(ticker):\n",
    "        driv.add_cookie(cookie)\n",
    "    while(True):\n",
    "        try:\n",
    "            #if('Resource not found' in driv.find_element_by_tag_name(\"div\").text)\n",
    "            driv.get('https://www.nseindia.com/api/quote-equity?symbol='+ticker+'&section=trade_info')\n",
    "            time.sleep(1)\n",
    "            bid =  json.loads(driv.find_element_by_tag_name(\"pre\").text)['marketDeptOrderBook']['ask'][0]\n",
    "            driv.quit()\n",
    "            return bid\n",
    "        except Exception as e:\n",
    "            print(\"Get Ask Depth Error at \", ticker,\" : \",str(e))\n",
    "            if('marketDeptOrderBook' in str(e)):\n",
    "                return None\n",
    "            time.sleep(2)\n",
    "            for cookie in getCookies(ticker):\n",
    "                driv.add_cookie(cookie)"
   ]
  },
  {
   "cell_type": "code",
   "execution_count": 48,
   "metadata": {},
   "outputs": [
    {
     "name": "stdout",
     "output_type": "stream",
     "text": [
      "Get Cookie Error:  Message: no such element: Unable to locate element: {\"method\":\"css selector\",\"selector\":\"tbody\"}\n",
      "  (Session info: chrome=86.0.4240.183)\n",
      "\n",
      "Get Cookie Error:  Message: no such element: Unable to locate element: {\"method\":\"css selector\",\"selector\":\"tbody\"}\n",
      "  (Session info: chrome=86.0.4240.183)\n",
      "\n",
      "Get Ask Depth Error at  3MINDIA  :  Message: no such element: Unable to locate element: {\"method\":\"css selector\",\"selector\":\"pre\"}\n",
      "  (Session info: chrome=86.0.4240.183)\n",
      "\n",
      "Get Ask Depth Error at  3MINDIA  :  Message: no such element: Unable to locate element: {\"method\":\"css selector\",\"selector\":\"pre\"}\n",
      "  (Session info: chrome=86.0.4240.183)\n",
      "\n"
     ]
    },
    {
     "ename": "KeyboardInterrupt",
     "evalue": "",
     "output_type": "error",
     "traceback": [
      "\u001b[1;31m---------------------------------------------------------------------------\u001b[0m",
      "\u001b[1;31mKeyboardInterrupt\u001b[0m                         Traceback (most recent call last)",
      "\u001b[1;32m<ipython-input-48-bd41039faba1>\u001b[0m in \u001b[0;36m<module>\u001b[1;34m\u001b[0m\n\u001b[1;32m----> 1\u001b[1;33m \u001b[0mgetAskDepth\u001b[0m\u001b[1;33m(\u001b[0m\u001b[1;34m\"3MINDIA\"\u001b[0m\u001b[1;33m)\u001b[0m\u001b[1;33m\u001b[0m\u001b[1;33m\u001b[0m\u001b[0m\n\u001b[0m",
      "\u001b[1;32m<ipython-input-47-ebbd720e670d>\u001b[0m in \u001b[0;36mgetAskDepth\u001b[1;34m(ticker)\u001b[0m\n\u001b[0;32m     17\u001b[0m                 \u001b[1;32mreturn\u001b[0m \u001b[1;32mNone\u001b[0m\u001b[1;33m\u001b[0m\u001b[1;33m\u001b[0m\u001b[0m\n\u001b[0;32m     18\u001b[0m             \u001b[0mtime\u001b[0m\u001b[1;33m.\u001b[0m\u001b[0msleep\u001b[0m\u001b[1;33m(\u001b[0m\u001b[1;36m2\u001b[0m\u001b[1;33m)\u001b[0m\u001b[1;33m\u001b[0m\u001b[1;33m\u001b[0m\u001b[0m\n\u001b[1;32m---> 19\u001b[1;33m             \u001b[1;32mfor\u001b[0m \u001b[0mcookie\u001b[0m \u001b[1;32min\u001b[0m \u001b[0mgetCookies\u001b[0m\u001b[1;33m(\u001b[0m\u001b[0mticker\u001b[0m\u001b[1;33m)\u001b[0m\u001b[1;33m:\u001b[0m\u001b[1;33m\u001b[0m\u001b[1;33m\u001b[0m\u001b[0m\n\u001b[0m\u001b[0;32m     20\u001b[0m                 \u001b[0mdriv\u001b[0m\u001b[1;33m.\u001b[0m\u001b[0madd_cookie\u001b[0m\u001b[1;33m(\u001b[0m\u001b[0mcookie\u001b[0m\u001b[1;33m)\u001b[0m\u001b[1;33m\u001b[0m\u001b[1;33m\u001b[0m\u001b[0m\n",
      "\u001b[1;32m<ipython-input-46-91247f4b6429>\u001b[0m in \u001b[0;36mgetCookies\u001b[1;34m(ticker)\u001b[0m\n\u001b[0;32m      2\u001b[0m     \u001b[1;32mwhile\u001b[0m\u001b[1;33m(\u001b[0m\u001b[1;32mTrue\u001b[0m\u001b[1;33m)\u001b[0m\u001b[1;33m:\u001b[0m\u001b[1;33m\u001b[0m\u001b[1;33m\u001b[0m\u001b[0m\n\u001b[0;32m      3\u001b[0m         \u001b[0mdri\u001b[0m \u001b[1;33m=\u001b[0m \u001b[0mwebdriver\u001b[0m\u001b[1;33m.\u001b[0m\u001b[0mChrome\u001b[0m\u001b[1;33m(\u001b[0m\u001b[0mPATH\u001b[0m\u001b[1;33m)\u001b[0m\u001b[1;33m\u001b[0m\u001b[1;33m\u001b[0m\u001b[0m\n\u001b[1;32m----> 4\u001b[1;33m         \u001b[0mdri\u001b[0m\u001b[1;33m.\u001b[0m\u001b[0mget\u001b[0m\u001b[1;33m(\u001b[0m\u001b[1;34m'https://www.nseindia.com/get-quotes/equity?symbol='\u001b[0m \u001b[1;33m+\u001b[0m \u001b[0mticker\u001b[0m\u001b[1;33m)\u001b[0m\u001b[1;33m\u001b[0m\u001b[1;33m\u001b[0m\u001b[0m\n\u001b[0m\u001b[0;32m      5\u001b[0m         \u001b[0mtime\u001b[0m\u001b[1;33m.\u001b[0m\u001b[0msleep\u001b[0m\u001b[1;33m(\u001b[0m\u001b[1;36m1\u001b[0m\u001b[1;33m)\u001b[0m\u001b[1;33m\u001b[0m\u001b[1;33m\u001b[0m\u001b[0m\n\u001b[0;32m      6\u001b[0m         \u001b[1;32mtry\u001b[0m\u001b[1;33m:\u001b[0m\u001b[1;33m\u001b[0m\u001b[1;33m\u001b[0m\u001b[0m\n",
      "\u001b[1;32m~\\Anaconda3\\lib\\site-packages\\selenium\\webdriver\\remote\\webdriver.py\u001b[0m in \u001b[0;36mget\u001b[1;34m(self, url)\u001b[0m\n\u001b[0;32m    331\u001b[0m         \u001b[0mLoads\u001b[0m \u001b[0ma\u001b[0m \u001b[0mweb\u001b[0m \u001b[0mpage\u001b[0m \u001b[1;32min\u001b[0m \u001b[0mthe\u001b[0m \u001b[0mcurrent\u001b[0m \u001b[0mbrowser\u001b[0m \u001b[0msession\u001b[0m\u001b[1;33m.\u001b[0m\u001b[1;33m\u001b[0m\u001b[1;33m\u001b[0m\u001b[0m\n\u001b[0;32m    332\u001b[0m         \"\"\"\n\u001b[1;32m--> 333\u001b[1;33m         \u001b[0mself\u001b[0m\u001b[1;33m.\u001b[0m\u001b[0mexecute\u001b[0m\u001b[1;33m(\u001b[0m\u001b[0mCommand\u001b[0m\u001b[1;33m.\u001b[0m\u001b[0mGET\u001b[0m\u001b[1;33m,\u001b[0m \u001b[1;33m{\u001b[0m\u001b[1;34m'url'\u001b[0m\u001b[1;33m:\u001b[0m \u001b[0murl\u001b[0m\u001b[1;33m}\u001b[0m\u001b[1;33m)\u001b[0m\u001b[1;33m\u001b[0m\u001b[1;33m\u001b[0m\u001b[0m\n\u001b[0m\u001b[0;32m    334\u001b[0m \u001b[1;33m\u001b[0m\u001b[0m\n\u001b[0;32m    335\u001b[0m     \u001b[1;33m@\u001b[0m\u001b[0mproperty\u001b[0m\u001b[1;33m\u001b[0m\u001b[1;33m\u001b[0m\u001b[0m\n",
      "\u001b[1;32m~\\Anaconda3\\lib\\site-packages\\selenium\\webdriver\\remote\\webdriver.py\u001b[0m in \u001b[0;36mexecute\u001b[1;34m(self, driver_command, params)\u001b[0m\n\u001b[0;32m    317\u001b[0m \u001b[1;33m\u001b[0m\u001b[0m\n\u001b[0;32m    318\u001b[0m         \u001b[0mparams\u001b[0m \u001b[1;33m=\u001b[0m \u001b[0mself\u001b[0m\u001b[1;33m.\u001b[0m\u001b[0m_wrap_value\u001b[0m\u001b[1;33m(\u001b[0m\u001b[0mparams\u001b[0m\u001b[1;33m)\u001b[0m\u001b[1;33m\u001b[0m\u001b[1;33m\u001b[0m\u001b[0m\n\u001b[1;32m--> 319\u001b[1;33m         \u001b[0mresponse\u001b[0m \u001b[1;33m=\u001b[0m \u001b[0mself\u001b[0m\u001b[1;33m.\u001b[0m\u001b[0mcommand_executor\u001b[0m\u001b[1;33m.\u001b[0m\u001b[0mexecute\u001b[0m\u001b[1;33m(\u001b[0m\u001b[0mdriver_command\u001b[0m\u001b[1;33m,\u001b[0m \u001b[0mparams\u001b[0m\u001b[1;33m)\u001b[0m\u001b[1;33m\u001b[0m\u001b[1;33m\u001b[0m\u001b[0m\n\u001b[0m\u001b[0;32m    320\u001b[0m         \u001b[1;32mif\u001b[0m \u001b[0mresponse\u001b[0m\u001b[1;33m:\u001b[0m\u001b[1;33m\u001b[0m\u001b[1;33m\u001b[0m\u001b[0m\n\u001b[0;32m    321\u001b[0m             \u001b[0mself\u001b[0m\u001b[1;33m.\u001b[0m\u001b[0merror_handler\u001b[0m\u001b[1;33m.\u001b[0m\u001b[0mcheck_response\u001b[0m\u001b[1;33m(\u001b[0m\u001b[0mresponse\u001b[0m\u001b[1;33m)\u001b[0m\u001b[1;33m\u001b[0m\u001b[1;33m\u001b[0m\u001b[0m\n",
      "\u001b[1;32m~\\Anaconda3\\lib\\site-packages\\selenium\\webdriver\\remote\\remote_connection.py\u001b[0m in \u001b[0;36mexecute\u001b[1;34m(self, command, params)\u001b[0m\n\u001b[0;32m    372\u001b[0m         \u001b[0mdata\u001b[0m \u001b[1;33m=\u001b[0m \u001b[0mutils\u001b[0m\u001b[1;33m.\u001b[0m\u001b[0mdump_json\u001b[0m\u001b[1;33m(\u001b[0m\u001b[0mparams\u001b[0m\u001b[1;33m)\u001b[0m\u001b[1;33m\u001b[0m\u001b[1;33m\u001b[0m\u001b[0m\n\u001b[0;32m    373\u001b[0m         \u001b[0murl\u001b[0m \u001b[1;33m=\u001b[0m \u001b[1;34m'%s%s'\u001b[0m \u001b[1;33m%\u001b[0m \u001b[1;33m(\u001b[0m\u001b[0mself\u001b[0m\u001b[1;33m.\u001b[0m\u001b[0m_url\u001b[0m\u001b[1;33m,\u001b[0m \u001b[0mpath\u001b[0m\u001b[1;33m)\u001b[0m\u001b[1;33m\u001b[0m\u001b[1;33m\u001b[0m\u001b[0m\n\u001b[1;32m--> 374\u001b[1;33m         \u001b[1;32mreturn\u001b[0m \u001b[0mself\u001b[0m\u001b[1;33m.\u001b[0m\u001b[0m_request\u001b[0m\u001b[1;33m(\u001b[0m\u001b[0mcommand_info\u001b[0m\u001b[1;33m[\u001b[0m\u001b[1;36m0\u001b[0m\u001b[1;33m]\u001b[0m\u001b[1;33m,\u001b[0m \u001b[0murl\u001b[0m\u001b[1;33m,\u001b[0m \u001b[0mbody\u001b[0m\u001b[1;33m=\u001b[0m\u001b[0mdata\u001b[0m\u001b[1;33m)\u001b[0m\u001b[1;33m\u001b[0m\u001b[1;33m\u001b[0m\u001b[0m\n\u001b[0m\u001b[0;32m    375\u001b[0m \u001b[1;33m\u001b[0m\u001b[0m\n\u001b[0;32m    376\u001b[0m     \u001b[1;32mdef\u001b[0m \u001b[0m_request\u001b[0m\u001b[1;33m(\u001b[0m\u001b[0mself\u001b[0m\u001b[1;33m,\u001b[0m \u001b[0mmethod\u001b[0m\u001b[1;33m,\u001b[0m \u001b[0murl\u001b[0m\u001b[1;33m,\u001b[0m \u001b[0mbody\u001b[0m\u001b[1;33m=\u001b[0m\u001b[1;32mNone\u001b[0m\u001b[1;33m)\u001b[0m\u001b[1;33m:\u001b[0m\u001b[1;33m\u001b[0m\u001b[1;33m\u001b[0m\u001b[0m\n",
      "\u001b[1;32m~\\Anaconda3\\lib\\site-packages\\selenium\\webdriver\\remote\\remote_connection.py\u001b[0m in \u001b[0;36m_request\u001b[1;34m(self, method, url, body)\u001b[0m\n\u001b[0;32m    395\u001b[0m \u001b[1;33m\u001b[0m\u001b[0m\n\u001b[0;32m    396\u001b[0m         \u001b[1;32mif\u001b[0m \u001b[0mself\u001b[0m\u001b[1;33m.\u001b[0m\u001b[0mkeep_alive\u001b[0m\u001b[1;33m:\u001b[0m\u001b[1;33m\u001b[0m\u001b[1;33m\u001b[0m\u001b[0m\n\u001b[1;32m--> 397\u001b[1;33m             \u001b[0mresp\u001b[0m \u001b[1;33m=\u001b[0m \u001b[0mself\u001b[0m\u001b[1;33m.\u001b[0m\u001b[0m_conn\u001b[0m\u001b[1;33m.\u001b[0m\u001b[0mrequest\u001b[0m\u001b[1;33m(\u001b[0m\u001b[0mmethod\u001b[0m\u001b[1;33m,\u001b[0m \u001b[0murl\u001b[0m\u001b[1;33m,\u001b[0m \u001b[0mbody\u001b[0m\u001b[1;33m=\u001b[0m\u001b[0mbody\u001b[0m\u001b[1;33m,\u001b[0m \u001b[0mheaders\u001b[0m\u001b[1;33m=\u001b[0m\u001b[0mheaders\u001b[0m\u001b[1;33m)\u001b[0m\u001b[1;33m\u001b[0m\u001b[1;33m\u001b[0m\u001b[0m\n\u001b[0m\u001b[0;32m    398\u001b[0m \u001b[1;33m\u001b[0m\u001b[0m\n\u001b[0;32m    399\u001b[0m             \u001b[0mstatuscode\u001b[0m \u001b[1;33m=\u001b[0m \u001b[0mresp\u001b[0m\u001b[1;33m.\u001b[0m\u001b[0mstatus\u001b[0m\u001b[1;33m\u001b[0m\u001b[1;33m\u001b[0m\u001b[0m\n",
      "\u001b[1;32m~\\Anaconda3\\lib\\site-packages\\urllib3\\request.py\u001b[0m in \u001b[0;36mrequest\u001b[1;34m(self, method, url, fields, headers, **urlopen_kw)\u001b[0m\n\u001b[0;32m     78\u001b[0m         \u001b[1;32melse\u001b[0m\u001b[1;33m:\u001b[0m\u001b[1;33m\u001b[0m\u001b[1;33m\u001b[0m\u001b[0m\n\u001b[0;32m     79\u001b[0m             return self.request_encode_body(\n\u001b[1;32m---> 80\u001b[1;33m                 \u001b[0mmethod\u001b[0m\u001b[1;33m,\u001b[0m \u001b[0murl\u001b[0m\u001b[1;33m,\u001b[0m \u001b[0mfields\u001b[0m\u001b[1;33m=\u001b[0m\u001b[0mfields\u001b[0m\u001b[1;33m,\u001b[0m \u001b[0mheaders\u001b[0m\u001b[1;33m=\u001b[0m\u001b[0mheaders\u001b[0m\u001b[1;33m,\u001b[0m \u001b[1;33m**\u001b[0m\u001b[0murlopen_kw\u001b[0m\u001b[1;33m\u001b[0m\u001b[1;33m\u001b[0m\u001b[0m\n\u001b[0m\u001b[0;32m     81\u001b[0m             )\n\u001b[0;32m     82\u001b[0m \u001b[1;33m\u001b[0m\u001b[0m\n",
      "\u001b[1;32m~\\Anaconda3\\lib\\site-packages\\urllib3\\request.py\u001b[0m in \u001b[0;36mrequest_encode_body\u001b[1;34m(self, method, url, fields, headers, encode_multipart, multipart_boundary, **urlopen_kw)\u001b[0m\n\u001b[0;32m    169\u001b[0m         \u001b[0mextra_kw\u001b[0m\u001b[1;33m.\u001b[0m\u001b[0mupdate\u001b[0m\u001b[1;33m(\u001b[0m\u001b[0murlopen_kw\u001b[0m\u001b[1;33m)\u001b[0m\u001b[1;33m\u001b[0m\u001b[1;33m\u001b[0m\u001b[0m\n\u001b[0;32m    170\u001b[0m \u001b[1;33m\u001b[0m\u001b[0m\n\u001b[1;32m--> 171\u001b[1;33m         \u001b[1;32mreturn\u001b[0m \u001b[0mself\u001b[0m\u001b[1;33m.\u001b[0m\u001b[0murlopen\u001b[0m\u001b[1;33m(\u001b[0m\u001b[0mmethod\u001b[0m\u001b[1;33m,\u001b[0m \u001b[0murl\u001b[0m\u001b[1;33m,\u001b[0m \u001b[1;33m**\u001b[0m\u001b[0mextra_kw\u001b[0m\u001b[1;33m)\u001b[0m\u001b[1;33m\u001b[0m\u001b[1;33m\u001b[0m\u001b[0m\n\u001b[0m",
      "\u001b[1;32m~\\Anaconda3\\lib\\site-packages\\urllib3\\poolmanager.py\u001b[0m in \u001b[0;36murlopen\u001b[1;34m(self, method, url, redirect, **kw)\u001b[0m\n\u001b[0;32m    334\u001b[0m             \u001b[0mresponse\u001b[0m \u001b[1;33m=\u001b[0m \u001b[0mconn\u001b[0m\u001b[1;33m.\u001b[0m\u001b[0murlopen\u001b[0m\u001b[1;33m(\u001b[0m\u001b[0mmethod\u001b[0m\u001b[1;33m,\u001b[0m \u001b[0murl\u001b[0m\u001b[1;33m,\u001b[0m \u001b[1;33m**\u001b[0m\u001b[0mkw\u001b[0m\u001b[1;33m)\u001b[0m\u001b[1;33m\u001b[0m\u001b[1;33m\u001b[0m\u001b[0m\n\u001b[0;32m    335\u001b[0m         \u001b[1;32melse\u001b[0m\u001b[1;33m:\u001b[0m\u001b[1;33m\u001b[0m\u001b[1;33m\u001b[0m\u001b[0m\n\u001b[1;32m--> 336\u001b[1;33m             \u001b[0mresponse\u001b[0m \u001b[1;33m=\u001b[0m \u001b[0mconn\u001b[0m\u001b[1;33m.\u001b[0m\u001b[0murlopen\u001b[0m\u001b[1;33m(\u001b[0m\u001b[0mmethod\u001b[0m\u001b[1;33m,\u001b[0m \u001b[0mu\u001b[0m\u001b[1;33m.\u001b[0m\u001b[0mrequest_uri\u001b[0m\u001b[1;33m,\u001b[0m \u001b[1;33m**\u001b[0m\u001b[0mkw\u001b[0m\u001b[1;33m)\u001b[0m\u001b[1;33m\u001b[0m\u001b[1;33m\u001b[0m\u001b[0m\n\u001b[0m\u001b[0;32m    337\u001b[0m \u001b[1;33m\u001b[0m\u001b[0m\n\u001b[0;32m    338\u001b[0m         \u001b[0mredirect_location\u001b[0m \u001b[1;33m=\u001b[0m \u001b[0mredirect\u001b[0m \u001b[1;32mand\u001b[0m \u001b[0mresponse\u001b[0m\u001b[1;33m.\u001b[0m\u001b[0mget_redirect_location\u001b[0m\u001b[1;33m(\u001b[0m\u001b[1;33m)\u001b[0m\u001b[1;33m\u001b[0m\u001b[1;33m\u001b[0m\u001b[0m\n",
      "\u001b[1;32m~\\Anaconda3\\lib\\site-packages\\urllib3\\connectionpool.py\u001b[0m in \u001b[0;36murlopen\u001b[1;34m(self, method, url, body, headers, retries, redirect, assert_same_host, timeout, pool_timeout, release_conn, chunked, body_pos, **response_kw)\u001b[0m\n\u001b[0;32m    675\u001b[0m                 \u001b[0mbody\u001b[0m\u001b[1;33m=\u001b[0m\u001b[0mbody\u001b[0m\u001b[1;33m,\u001b[0m\u001b[1;33m\u001b[0m\u001b[1;33m\u001b[0m\u001b[0m\n\u001b[0;32m    676\u001b[0m                 \u001b[0mheaders\u001b[0m\u001b[1;33m=\u001b[0m\u001b[0mheaders\u001b[0m\u001b[1;33m,\u001b[0m\u001b[1;33m\u001b[0m\u001b[1;33m\u001b[0m\u001b[0m\n\u001b[1;32m--> 677\u001b[1;33m                 \u001b[0mchunked\u001b[0m\u001b[1;33m=\u001b[0m\u001b[0mchunked\u001b[0m\u001b[1;33m,\u001b[0m\u001b[1;33m\u001b[0m\u001b[1;33m\u001b[0m\u001b[0m\n\u001b[0m\u001b[0;32m    678\u001b[0m             )\n\u001b[0;32m    679\u001b[0m \u001b[1;33m\u001b[0m\u001b[0m\n",
      "\u001b[1;32m~\\Anaconda3\\lib\\site-packages\\urllib3\\connectionpool.py\u001b[0m in \u001b[0;36m_make_request\u001b[1;34m(self, conn, method, url, timeout, chunked, **httplib_request_kw)\u001b[0m\n\u001b[0;32m    424\u001b[0m                     \u001b[1;31m# Python 3 (including for exceptions like SystemExit).\u001b[0m\u001b[1;33m\u001b[0m\u001b[1;33m\u001b[0m\u001b[1;33m\u001b[0m\u001b[0m\n\u001b[0;32m    425\u001b[0m                     \u001b[1;31m# Otherwise it looks like a bug in the code.\u001b[0m\u001b[1;33m\u001b[0m\u001b[1;33m\u001b[0m\u001b[1;33m\u001b[0m\u001b[0m\n\u001b[1;32m--> 426\u001b[1;33m                     \u001b[0msix\u001b[0m\u001b[1;33m.\u001b[0m\u001b[0mraise_from\u001b[0m\u001b[1;33m(\u001b[0m\u001b[0me\u001b[0m\u001b[1;33m,\u001b[0m \u001b[1;32mNone\u001b[0m\u001b[1;33m)\u001b[0m\u001b[1;33m\u001b[0m\u001b[1;33m\u001b[0m\u001b[0m\n\u001b[0m\u001b[0;32m    427\u001b[0m         \u001b[1;32mexcept\u001b[0m \u001b[1;33m(\u001b[0m\u001b[0mSocketTimeout\u001b[0m\u001b[1;33m,\u001b[0m \u001b[0mBaseSSLError\u001b[0m\u001b[1;33m,\u001b[0m \u001b[0mSocketError\u001b[0m\u001b[1;33m)\u001b[0m \u001b[1;32mas\u001b[0m \u001b[0me\u001b[0m\u001b[1;33m:\u001b[0m\u001b[1;33m\u001b[0m\u001b[1;33m\u001b[0m\u001b[0m\n\u001b[0;32m    428\u001b[0m             \u001b[0mself\u001b[0m\u001b[1;33m.\u001b[0m\u001b[0m_raise_timeout\u001b[0m\u001b[1;33m(\u001b[0m\u001b[0merr\u001b[0m\u001b[1;33m=\u001b[0m\u001b[0me\u001b[0m\u001b[1;33m,\u001b[0m \u001b[0murl\u001b[0m\u001b[1;33m=\u001b[0m\u001b[0murl\u001b[0m\u001b[1;33m,\u001b[0m \u001b[0mtimeout_value\u001b[0m\u001b[1;33m=\u001b[0m\u001b[0mread_timeout\u001b[0m\u001b[1;33m)\u001b[0m\u001b[1;33m\u001b[0m\u001b[1;33m\u001b[0m\u001b[0m\n",
      "\u001b[1;32m~\\Anaconda3\\lib\\site-packages\\urllib3\\packages\\six.py\u001b[0m in \u001b[0;36mraise_from\u001b[1;34m(value, from_value)\u001b[0m\n",
      "\u001b[1;32m~\\Anaconda3\\lib\\site-packages\\urllib3\\connectionpool.py\u001b[0m in \u001b[0;36m_make_request\u001b[1;34m(self, conn, method, url, timeout, chunked, **httplib_request_kw)\u001b[0m\n\u001b[0;32m    419\u001b[0m                 \u001b[1;31m# Python 3\u001b[0m\u001b[1;33m\u001b[0m\u001b[1;33m\u001b[0m\u001b[1;33m\u001b[0m\u001b[0m\n\u001b[0;32m    420\u001b[0m                 \u001b[1;32mtry\u001b[0m\u001b[1;33m:\u001b[0m\u001b[1;33m\u001b[0m\u001b[1;33m\u001b[0m\u001b[0m\n\u001b[1;32m--> 421\u001b[1;33m                     \u001b[0mhttplib_response\u001b[0m \u001b[1;33m=\u001b[0m \u001b[0mconn\u001b[0m\u001b[1;33m.\u001b[0m\u001b[0mgetresponse\u001b[0m\u001b[1;33m(\u001b[0m\u001b[1;33m)\u001b[0m\u001b[1;33m\u001b[0m\u001b[1;33m\u001b[0m\u001b[0m\n\u001b[0m\u001b[0;32m    422\u001b[0m                 \u001b[1;32mexcept\u001b[0m \u001b[0mBaseException\u001b[0m \u001b[1;32mas\u001b[0m \u001b[0me\u001b[0m\u001b[1;33m:\u001b[0m\u001b[1;33m\u001b[0m\u001b[1;33m\u001b[0m\u001b[0m\n\u001b[0;32m    423\u001b[0m                     \u001b[1;31m# Remove the TypeError from the exception chain in\u001b[0m\u001b[1;33m\u001b[0m\u001b[1;33m\u001b[0m\u001b[1;33m\u001b[0m\u001b[0m\n",
      "\u001b[1;32m~\\Anaconda3\\lib\\http\\client.py\u001b[0m in \u001b[0;36mgetresponse\u001b[1;34m(self)\u001b[0m\n\u001b[0;32m   1319\u001b[0m         \u001b[1;32mtry\u001b[0m\u001b[1;33m:\u001b[0m\u001b[1;33m\u001b[0m\u001b[1;33m\u001b[0m\u001b[0m\n\u001b[0;32m   1320\u001b[0m             \u001b[1;32mtry\u001b[0m\u001b[1;33m:\u001b[0m\u001b[1;33m\u001b[0m\u001b[1;33m\u001b[0m\u001b[0m\n\u001b[1;32m-> 1321\u001b[1;33m                 \u001b[0mresponse\u001b[0m\u001b[1;33m.\u001b[0m\u001b[0mbegin\u001b[0m\u001b[1;33m(\u001b[0m\u001b[1;33m)\u001b[0m\u001b[1;33m\u001b[0m\u001b[1;33m\u001b[0m\u001b[0m\n\u001b[0m\u001b[0;32m   1322\u001b[0m             \u001b[1;32mexcept\u001b[0m \u001b[0mConnectionError\u001b[0m\u001b[1;33m:\u001b[0m\u001b[1;33m\u001b[0m\u001b[1;33m\u001b[0m\u001b[0m\n\u001b[0;32m   1323\u001b[0m                 \u001b[0mself\u001b[0m\u001b[1;33m.\u001b[0m\u001b[0mclose\u001b[0m\u001b[1;33m(\u001b[0m\u001b[1;33m)\u001b[0m\u001b[1;33m\u001b[0m\u001b[1;33m\u001b[0m\u001b[0m\n",
      "\u001b[1;32m~\\Anaconda3\\lib\\http\\client.py\u001b[0m in \u001b[0;36mbegin\u001b[1;34m(self)\u001b[0m\n\u001b[0;32m    294\u001b[0m         \u001b[1;31m# read until we get a non-100 response\u001b[0m\u001b[1;33m\u001b[0m\u001b[1;33m\u001b[0m\u001b[1;33m\u001b[0m\u001b[0m\n\u001b[0;32m    295\u001b[0m         \u001b[1;32mwhile\u001b[0m \u001b[1;32mTrue\u001b[0m\u001b[1;33m:\u001b[0m\u001b[1;33m\u001b[0m\u001b[1;33m\u001b[0m\u001b[0m\n\u001b[1;32m--> 296\u001b[1;33m             \u001b[0mversion\u001b[0m\u001b[1;33m,\u001b[0m \u001b[0mstatus\u001b[0m\u001b[1;33m,\u001b[0m \u001b[0mreason\u001b[0m \u001b[1;33m=\u001b[0m \u001b[0mself\u001b[0m\u001b[1;33m.\u001b[0m\u001b[0m_read_status\u001b[0m\u001b[1;33m(\u001b[0m\u001b[1;33m)\u001b[0m\u001b[1;33m\u001b[0m\u001b[1;33m\u001b[0m\u001b[0m\n\u001b[0m\u001b[0;32m    297\u001b[0m             \u001b[1;32mif\u001b[0m \u001b[0mstatus\u001b[0m \u001b[1;33m!=\u001b[0m \u001b[0mCONTINUE\u001b[0m\u001b[1;33m:\u001b[0m\u001b[1;33m\u001b[0m\u001b[1;33m\u001b[0m\u001b[0m\n\u001b[0;32m    298\u001b[0m                 \u001b[1;32mbreak\u001b[0m\u001b[1;33m\u001b[0m\u001b[1;33m\u001b[0m\u001b[0m\n",
      "\u001b[1;32m~\\Anaconda3\\lib\\http\\client.py\u001b[0m in \u001b[0;36m_read_status\u001b[1;34m(self)\u001b[0m\n\u001b[0;32m    255\u001b[0m \u001b[1;33m\u001b[0m\u001b[0m\n\u001b[0;32m    256\u001b[0m     \u001b[1;32mdef\u001b[0m \u001b[0m_read_status\u001b[0m\u001b[1;33m(\u001b[0m\u001b[0mself\u001b[0m\u001b[1;33m)\u001b[0m\u001b[1;33m:\u001b[0m\u001b[1;33m\u001b[0m\u001b[1;33m\u001b[0m\u001b[0m\n\u001b[1;32m--> 257\u001b[1;33m         \u001b[0mline\u001b[0m \u001b[1;33m=\u001b[0m \u001b[0mstr\u001b[0m\u001b[1;33m(\u001b[0m\u001b[0mself\u001b[0m\u001b[1;33m.\u001b[0m\u001b[0mfp\u001b[0m\u001b[1;33m.\u001b[0m\u001b[0mreadline\u001b[0m\u001b[1;33m(\u001b[0m\u001b[0m_MAXLINE\u001b[0m \u001b[1;33m+\u001b[0m \u001b[1;36m1\u001b[0m\u001b[1;33m)\u001b[0m\u001b[1;33m,\u001b[0m \u001b[1;34m\"iso-8859-1\"\u001b[0m\u001b[1;33m)\u001b[0m\u001b[1;33m\u001b[0m\u001b[1;33m\u001b[0m\u001b[0m\n\u001b[0m\u001b[0;32m    258\u001b[0m         \u001b[1;32mif\u001b[0m \u001b[0mlen\u001b[0m\u001b[1;33m(\u001b[0m\u001b[0mline\u001b[0m\u001b[1;33m)\u001b[0m \u001b[1;33m>\u001b[0m \u001b[0m_MAXLINE\u001b[0m\u001b[1;33m:\u001b[0m\u001b[1;33m\u001b[0m\u001b[1;33m\u001b[0m\u001b[0m\n\u001b[0;32m    259\u001b[0m             \u001b[1;32mraise\u001b[0m \u001b[0mLineTooLong\u001b[0m\u001b[1;33m(\u001b[0m\u001b[1;34m\"status line\"\u001b[0m\u001b[1;33m)\u001b[0m\u001b[1;33m\u001b[0m\u001b[1;33m\u001b[0m\u001b[0m\n",
      "\u001b[1;32m~\\Anaconda3\\lib\\socket.py\u001b[0m in \u001b[0;36mreadinto\u001b[1;34m(self, b)\u001b[0m\n\u001b[0;32m    587\u001b[0m         \u001b[1;32mwhile\u001b[0m \u001b[1;32mTrue\u001b[0m\u001b[1;33m:\u001b[0m\u001b[1;33m\u001b[0m\u001b[1;33m\u001b[0m\u001b[0m\n\u001b[0;32m    588\u001b[0m             \u001b[1;32mtry\u001b[0m\u001b[1;33m:\u001b[0m\u001b[1;33m\u001b[0m\u001b[1;33m\u001b[0m\u001b[0m\n\u001b[1;32m--> 589\u001b[1;33m                 \u001b[1;32mreturn\u001b[0m \u001b[0mself\u001b[0m\u001b[1;33m.\u001b[0m\u001b[0m_sock\u001b[0m\u001b[1;33m.\u001b[0m\u001b[0mrecv_into\u001b[0m\u001b[1;33m(\u001b[0m\u001b[0mb\u001b[0m\u001b[1;33m)\u001b[0m\u001b[1;33m\u001b[0m\u001b[1;33m\u001b[0m\u001b[0m\n\u001b[0m\u001b[0;32m    590\u001b[0m             \u001b[1;32mexcept\u001b[0m \u001b[0mtimeout\u001b[0m\u001b[1;33m:\u001b[0m\u001b[1;33m\u001b[0m\u001b[1;33m\u001b[0m\u001b[0m\n\u001b[0;32m    591\u001b[0m                 \u001b[0mself\u001b[0m\u001b[1;33m.\u001b[0m\u001b[0m_timeout_occurred\u001b[0m \u001b[1;33m=\u001b[0m \u001b[1;32mTrue\u001b[0m\u001b[1;33m\u001b[0m\u001b[1;33m\u001b[0m\u001b[0m\n",
      "\u001b[1;31mKeyboardInterrupt\u001b[0m: "
     ]
    }
   ],
   "source": [
    "getAskDepth(\"3MINDIA\")"
   ]
  },
  {
   "cell_type": "code",
   "execution_count": 19,
   "metadata": {},
   "outputs": [
    {
     "data": {
      "text/plain": [
       "True"
      ]
     },
     "execution_count": 19,
     "metadata": {},
     "output_type": "execute_result"
    }
   ],
   "source": [
    "'Resource not found' in driv.find_element_by_tag_name(\"div\").text"
   ]
  },
  {
   "cell_type": "code",
   "execution_count": 20,
   "metadata": {},
   "outputs": [
    {
     "name": "stdout",
     "output_type": "stream",
     "text": [
      "Price:  20427.2 , Qty:  1 .\n",
      "Price:  0 , Qty:  0 .\n",
      "Price:  0 , Qty:  0 .\n",
      "Price:  0 , Qty:  0 .\n",
      "Price:  0 , Qty:  0 .\n"
     ]
    }
   ],
   "source": [
    "import json\n",
    "for bid in json.loads(driv.find_element_by_tag_name(\"pre\").text)['marketDeptOrderBook']['ask']:\n",
    "    print(\"Price: \",bid['price'],\", Qty: \",bid['quantity'],\".\")"
   ]
  },
  {
   "cell_type": "code",
   "execution_count": 15,
   "metadata": {},
   "outputs": [],
   "source": [
    "driv = webdriver.Chrome(PATH)\n",
    "driv.get('https://www.nseindia.com/api/quote-equity?symbol=3MINDIA&section=trade_info')\n",
    "for cookie in cookies:\n",
    "    driv.add_cookie(cookie)\n",
    "driv.refresh()"
   ]
  },
  {
   "cell_type": "code",
   "execution_count": 71,
   "metadata": {},
   "outputs": [
    {
     "data": {
      "text/plain": [
       "20427.0"
      ]
     },
     "execution_count": 71,
     "metadata": {},
     "output_type": "execute_result"
    }
   ],
   "source": [
    "float(\"20,427.0\".replace(\",\",\"\"))"
   ]
  },
  {
   "cell_type": "code",
   "execution_count": null,
   "metadata": {},
   "outputs": [],
   "source": [
    "requests.get('https://www.nseindia.com/get-quotes/equity?symbol=RELIANCE')"
   ]
  },
  {
   "cell_type": "code",
   "execution_count": 35,
   "metadata": {},
   "outputs": [
    {
     "name": "stdout",
     "output_type": "stream",
     "text": [
      "2,050.70\n",
      "-\n",
      "-\n",
      "-\n",
      "-\n"
     ]
    }
   ],
   "source": [
    "for tex in driver.find_element_by_id(\"marketDepthTable\").find_element_by_tag_name(\"tbody\").find_elements_by_tag_name(\"tr\"):\n",
    "    print(tex.find_elements_by_tag_name(\"td\")[2].text)"
   ]
  },
  {
   "cell_type": "code",
   "execution_count": 26,
   "metadata": {},
   "outputs": [
    {
     "data": {
      "text/plain": [
       "1.5016944408416748"
      ]
     },
     "execution_count": 26,
     "metadata": {},
     "output_type": "execute_result"
    }
   ],
   "source": [
    "lol = time.time()\n",
    "time.sleep(1.5)\n",
    "time.time()-lol"
   ]
  },
  {
   "cell_type": "code",
   "execution_count": 28,
   "metadata": {},
   "outputs": [],
   "source": [
    "import asyncio"
   ]
  },
  {
   "cell_type": "code",
   "execution_count": 62,
   "metadata": {},
   "outputs": [],
   "source": [
    "async def rio(tim):\n",
    "    await asyncio.sleep(tim)\n",
    "    dei = time.time()\n",
    "    print(tim)"
   ]
  },
  {
   "cell_type": "code",
   "execution_count": 45,
   "metadata": {},
   "outputs": [],
   "source": [
    "async def ri():\n",
    "    await asyncio.sleep(.99)\n",
    "    print(\"nei\")"
   ]
  },
  {
   "cell_type": "code",
   "execution_count": 68,
   "metadata": {},
   "outputs": [],
   "source": [
    "loop = asyncio.get_event_loop()\n",
    "for i in range(3):\n",
    "    asyncio.ensure_future(rio(i))\n",
    "#await asyncio.gather(rio(i) for i in range(3))"
   ]
  },
  {
   "cell_type": "code",
   "execution_count": 70,
   "metadata": {},
   "outputs": [
    {
     "ename": "RuntimeError",
     "evalue": "This event loop is already running",
     "output_type": "error",
     "traceback": [
      "\u001b[1;31m---------------------------------------------------------------------------\u001b[0m",
      "\u001b[1;31mRuntimeError\u001b[0m                              Traceback (most recent call last)",
      "\u001b[1;32m<ipython-input-70-dff183b847be>\u001b[0m in \u001b[0;36m<module>\u001b[1;34m\u001b[0m\n\u001b[1;32m----> 1\u001b[1;33m \u001b[0mloop\u001b[0m\u001b[1;33m.\u001b[0m\u001b[0mrun_forever\u001b[0m\u001b[1;33m(\u001b[0m\u001b[1;33m)\u001b[0m\u001b[1;33m\u001b[0m\u001b[1;33m\u001b[0m\u001b[0m\n\u001b[0m",
      "\u001b[1;32m~\\Anaconda3\\lib\\asyncio\\base_events.py\u001b[0m in \u001b[0;36mrun_forever\u001b[1;34m(self)\u001b[0m\n\u001b[0;32m    513\u001b[0m         \u001b[0mself\u001b[0m\u001b[1;33m.\u001b[0m\u001b[0m_check_closed\u001b[0m\u001b[1;33m(\u001b[0m\u001b[1;33m)\u001b[0m\u001b[1;33m\u001b[0m\u001b[1;33m\u001b[0m\u001b[0m\n\u001b[0;32m    514\u001b[0m         \u001b[1;32mif\u001b[0m \u001b[0mself\u001b[0m\u001b[1;33m.\u001b[0m\u001b[0mis_running\u001b[0m\u001b[1;33m(\u001b[0m\u001b[1;33m)\u001b[0m\u001b[1;33m:\u001b[0m\u001b[1;33m\u001b[0m\u001b[1;33m\u001b[0m\u001b[0m\n\u001b[1;32m--> 515\u001b[1;33m             \u001b[1;32mraise\u001b[0m \u001b[0mRuntimeError\u001b[0m\u001b[1;33m(\u001b[0m\u001b[1;34m'This event loop is already running'\u001b[0m\u001b[1;33m)\u001b[0m\u001b[1;33m\u001b[0m\u001b[1;33m\u001b[0m\u001b[0m\n\u001b[0m\u001b[0;32m    516\u001b[0m         \u001b[1;32mif\u001b[0m \u001b[0mevents\u001b[0m\u001b[1;33m.\u001b[0m\u001b[0m_get_running_loop\u001b[0m\u001b[1;33m(\u001b[0m\u001b[1;33m)\u001b[0m \u001b[1;32mis\u001b[0m \u001b[1;32mnot\u001b[0m \u001b[1;32mNone\u001b[0m\u001b[1;33m:\u001b[0m\u001b[1;33m\u001b[0m\u001b[1;33m\u001b[0m\u001b[0m\n\u001b[0;32m    517\u001b[0m             raise RuntimeError(\n",
      "\u001b[1;31mRuntimeError\u001b[0m: This event loop is already running"
     ]
    }
   ],
   "source": [
    "loop.run_forever()"
   ]
  },
  {
   "cell_type": "code",
   "execution_count": 78,
   "metadata": {},
   "outputs": [
    {
     "data": {
      "text/plain": [
       "<_GatheringFuture pending>"
      ]
     },
     "execution_count": 78,
     "metadata": {},
     "output_type": "execute_result"
    }
   ],
   "source": [
    "asyncio.gather(rio(.3))\n",
    "asyncio.gather(rio(.2))"
   ]
  },
  {
   "cell_type": "code",
   "execution_count": 80,
   "metadata": {},
   "outputs": [
    {
     "data": {
      "text/plain": [
       "[<coroutine object rio at 0x00000277B740F148>,\n",
       " <coroutine object rio at 0x00000277B740F048>,\n",
       " <coroutine object rio at 0x00000277B740F2C8>,\n",
       " <coroutine object rio at 0x00000277B740F348>]"
      ]
     },
     "execution_count": 80,
     "metadata": {},
     "output_type": "execute_result"
    }
   ],
   "source": [
    "[rio(g) for g in range(4)]"
   ]
  },
  {
   "cell_type": "code",
   "execution_count": 99,
   "metadata": {},
   "outputs": [
    {
     "name": "stderr",
     "output_type": "stream",
     "text": [
      "Unclosed client session\n",
      "client_session: <aiohttp.client.ClientSession object at 0x00000277B84424A8>\n",
      "Unclosed connector\n",
      "connections: ['[(<aiohttp.client_proto.ResponseHandler object at 0x00000277B9809388>, 36971.187)]']\n",
      "connector: <aiohttp.connector.TCPConnector object at 0x00000277B84427B8>\n",
      "Unclosed client session\n",
      "client_session: <aiohttp.client.ClientSession object at 0x00000277B7637240>\n",
      "Unclosed connector\n",
      "connections: ['[(<aiohttp.client_proto.ResponseHandler object at 0x00000277B98093F0>, 36971.625)]']\n",
      "connector: <aiohttp.connector.TCPConnector object at 0x00000277B73F8C18>\n",
      "Unclosed client session\n",
      "client_session: <aiohttp.client.ClientSession object at 0x00000277B97D8E10>\n",
      "Unclosed connector\n",
      "connections: ['[(<aiohttp.client_proto.ResponseHandler object at 0x00000277B98091E8>, 36971.781)]']\n",
      "connector: <aiohttp.connector.TCPConnector object at 0x00000277B97D8C50>\n"
     ]
    },
    {
     "name": "stdout",
     "output_type": "stream",
     "text": [
      "1.0269882678985596\n"
     ]
    }
   ],
   "source": [
    "startTime = time.time()\n",
    "await async_quote_data(\"SBIN\")\n",
    "await async_quote_data(\"RELIANCE\")\n",
    "await async_quote_data(\"IDEA\")\n",
    "print(time.time()-startTime)"
   ]
  },
  {
   "cell_type": "code",
   "execution_count": 4,
   "metadata": {},
   "outputs": [
    {
     "name": "stdout",
     "output_type": "stream",
     "text": [
      "Error at:  HEXAWARE  :  'timestamp'\n",
      "Error at:  ESSELPACK  :  'timestamp'\n",
      "Error at:  IBVENTURES  :  'timestamp'\n",
      "Error at:  STRTECH  :  'timestamp'\n",
      "Error at:  NIITTECH  :  'timestamp'\n",
      "16.477628469467163\n"
     ]
    }
   ],
   "source": [
    "startTime = time.time()\n",
    "await asyncio.gather(*[async_quote_data(com) for com in company])\n",
    "print(time.time()-startTime)"
   ]
  },
  {
   "cell_type": "code",
   "execution_count": 8,
   "metadata": {},
   "outputs": [],
   "source": [
    "async def async_quote_data(symb):\n",
    "    client = aiohttp.ClientSession()\n",
    "    try:\n",
    "        data_range = \"20m\"\n",
    "        data_interval = \"5m\"\n",
    "        symbol = symb + '.NS'\n",
    "        res = await client.get('https://query1.finance.yahoo.com/v8/finance/chart/{symbol}?range={data_range}&interval={data_interval}'.format(**locals()))\n",
    "        data = await res.json()\n",
    "        body = data['chart']['result'][0]    \n",
    "        dt = datetime.datetime\n",
    "        dt = pd.Series(map(lambda x: arrow.get(x).to('Asia/Calcutta').datetime.replace(tzinfo=None), body['timestamp']), name='Datetime')\n",
    "        df = pd.DataFrame(body['indicators']['quote'][0], index=dt)\n",
    "        dg = pd.DataFrame(body['timestamp'])    \n",
    "        df = df.loc[:, ('open', 'high', 'low', 'close', 'volume')]\n",
    "        df.dropna(inplace=True)     #removing NaN rows\n",
    "        df.columns = ['Open', 'High','Low','Close','Volume']    #Renaming columns in pandas\n",
    "        df.index.name = 'Date'\n",
    "        await client.close()\n",
    "\n",
    "        return df\n",
    "    except Exception as e:\n",
    "        await client.close()\n",
    "        print(\"Error at: \", symb,\" : \",str(e))"
   ]
  },
  {
   "cell_type": "code",
   "execution_count": 119,
   "metadata": {},
   "outputs": [
    {
     "data": {
      "text/plain": [
       "<coroutine object ClientSession.close at 0x00000277B994D8C8>"
      ]
     },
     "execution_count": 119,
     "metadata": {},
     "output_type": "execute_result"
    }
   ],
   "source": [
    "aiohttp.ClientSession().close()"
   ]
  },
  {
   "cell_type": "code",
   "execution_count": 18,
   "metadata": {},
   "outputs": [
    {
     "data": {
      "text/html": [
       "<div>\n",
       "<style scoped>\n",
       "    .dataframe tbody tr th:only-of-type {\n",
       "        vertical-align: middle;\n",
       "    }\n",
       "\n",
       "    .dataframe tbody tr th {\n",
       "        vertical-align: top;\n",
       "    }\n",
       "\n",
       "    .dataframe thead th {\n",
       "        text-align: right;\n",
       "    }\n",
       "</style>\n",
       "<table border=\"1\" class=\"dataframe\">\n",
       "  <thead>\n",
       "    <tr style=\"text-align: right;\">\n",
       "      <th></th>\n",
       "      <th>Open</th>\n",
       "      <th>High</th>\n",
       "      <th>Low</th>\n",
       "      <th>Close</th>\n",
       "      <th>Volume</th>\n",
       "    </tr>\n",
       "    <tr>\n",
       "      <th>Date</th>\n",
       "      <th></th>\n",
       "      <th></th>\n",
       "      <th></th>\n",
       "      <th></th>\n",
       "      <th></th>\n",
       "    </tr>\n",
       "  </thead>\n",
       "  <tbody>\n",
       "    <tr>\n",
       "      <th>2020-11-12 12:40:00</th>\n",
       "      <td>648.049988</td>\n",
       "      <td>648.049988</td>\n",
       "      <td>648.000000</td>\n",
       "      <td>648.000000</td>\n",
       "      <td>0</td>\n",
       "    </tr>\n",
       "    <tr>\n",
       "      <th>2020-11-12 12:45:00</th>\n",
       "      <td>648.000000</td>\n",
       "      <td>648.049988</td>\n",
       "      <td>647.400024</td>\n",
       "      <td>647.849976</td>\n",
       "      <td>2318</td>\n",
       "    </tr>\n",
       "    <tr>\n",
       "      <th>2020-11-12 12:50:00</th>\n",
       "      <td>647.400024</td>\n",
       "      <td>648.049988</td>\n",
       "      <td>647.250000</td>\n",
       "      <td>648.049988</td>\n",
       "      <td>3273</td>\n",
       "    </tr>\n",
       "    <tr>\n",
       "      <th>2020-11-12 12:55:00</th>\n",
       "      <td>648.099976</td>\n",
       "      <td>648.349976</td>\n",
       "      <td>647.500000</td>\n",
       "      <td>647.900024</td>\n",
       "      <td>5604</td>\n",
       "    </tr>\n",
       "    <tr>\n",
       "      <th>2020-11-12 13:00:00</th>\n",
       "      <td>647.900024</td>\n",
       "      <td>648.150024</td>\n",
       "      <td>647.700012</td>\n",
       "      <td>647.700012</td>\n",
       "      <td>2542</td>\n",
       "    </tr>\n",
       "    <tr>\n",
       "      <th>2020-11-12 13:02:26</th>\n",
       "      <td>647.299988</td>\n",
       "      <td>647.299988</td>\n",
       "      <td>647.299988</td>\n",
       "      <td>647.299988</td>\n",
       "      <td>0</td>\n",
       "    </tr>\n",
       "  </tbody>\n",
       "</table>\n",
       "</div>"
      ],
      "text/plain": [
       "                           Open        High         Low       Close  Volume\n",
       "Date                                                                       \n",
       "2020-11-12 12:40:00  648.049988  648.049988  648.000000  648.000000       0\n",
       "2020-11-12 12:45:00  648.000000  648.049988  647.400024  647.849976    2318\n",
       "2020-11-12 12:50:00  647.400024  648.049988  647.250000  648.049988    3273\n",
       "2020-11-12 12:55:00  648.099976  648.349976  647.500000  647.900024    5604\n",
       "2020-11-12 13:00:00  647.900024  648.150024  647.700012  647.700012    2542\n",
       "2020-11-12 13:02:26  647.299988  647.299988  647.299988  647.299988       0"
      ]
     },
     "execution_count": 18,
     "metadata": {},
     "output_type": "execute_result"
    }
   ],
   "source": [
    "await async_quote_data(\"BERGEPAINT\")"
   ]
  },
  {
   "cell_type": "code",
   "execution_count": 19,
   "metadata": {},
   "outputs": [
    {
     "data": {
      "text/html": [
       "<div>\n",
       "<style scoped>\n",
       "    .dataframe tbody tr th:only-of-type {\n",
       "        vertical-align: middle;\n",
       "    }\n",
       "\n",
       "    .dataframe tbody tr th {\n",
       "        vertical-align: top;\n",
       "    }\n",
       "\n",
       "    .dataframe thead th {\n",
       "        text-align: right;\n",
       "    }\n",
       "</style>\n",
       "<table border=\"1\" class=\"dataframe\">\n",
       "  <thead>\n",
       "    <tr style=\"text-align: right;\">\n",
       "      <th></th>\n",
       "      <th>Open</th>\n",
       "      <th>High</th>\n",
       "      <th>Low</th>\n",
       "      <th>Close</th>\n",
       "      <th>Volume</th>\n",
       "    </tr>\n",
       "    <tr>\n",
       "      <th>Date</th>\n",
       "      <th></th>\n",
       "      <th></th>\n",
       "      <th></th>\n",
       "      <th></th>\n",
       "      <th></th>\n",
       "    </tr>\n",
       "  </thead>\n",
       "  <tbody>\n",
       "    <tr>\n",
       "      <th>2020-11-12 12:45:00</th>\n",
       "      <td>479.700012</td>\n",
       "      <td>480.100006</td>\n",
       "      <td>479.700012</td>\n",
       "      <td>479.899994</td>\n",
       "      <td>57558</td>\n",
       "    </tr>\n",
       "    <tr>\n",
       "      <th>2020-11-12 12:50:00</th>\n",
       "      <td>479.899994</td>\n",
       "      <td>480.100006</td>\n",
       "      <td>479.799988</td>\n",
       "      <td>479.850006</td>\n",
       "      <td>70279</td>\n",
       "    </tr>\n",
       "    <tr>\n",
       "      <th>2020-11-12 12:55:00</th>\n",
       "      <td>479.899994</td>\n",
       "      <td>480.250000</td>\n",
       "      <td>479.799988</td>\n",
       "      <td>479.899994</td>\n",
       "      <td>86036</td>\n",
       "    </tr>\n",
       "    <tr>\n",
       "      <th>2020-11-12 13:00:00</th>\n",
       "      <td>479.899994</td>\n",
       "      <td>480.049988</td>\n",
       "      <td>479.649994</td>\n",
       "      <td>479.850006</td>\n",
       "      <td>88813</td>\n",
       "    </tr>\n",
       "    <tr>\n",
       "      <th>2020-11-12 13:05:00</th>\n",
       "      <td>479.799988</td>\n",
       "      <td>480.049988</td>\n",
       "      <td>479.750000</td>\n",
       "      <td>480.000000</td>\n",
       "      <td>130986</td>\n",
       "    </tr>\n",
       "    <tr>\n",
       "      <th>2020-11-12 13:06:19</th>\n",
       "      <td>480.000000</td>\n",
       "      <td>480.000000</td>\n",
       "      <td>480.000000</td>\n",
       "      <td>480.000000</td>\n",
       "      <td>0</td>\n",
       "    </tr>\n",
       "  </tbody>\n",
       "</table>\n",
       "</div>"
      ],
      "text/plain": [
       "                           Open        High         Low       Close  Volume\n",
       "Date                                                                       \n",
       "2020-11-12 12:45:00  479.700012  480.100006  479.700012  479.899994   57558\n",
       "2020-11-12 12:50:00  479.899994  480.100006  479.799988  479.850006   70279\n",
       "2020-11-12 12:55:00  479.899994  480.250000  479.799988  479.899994   86036\n",
       "2020-11-12 13:00:00  479.899994  480.049988  479.649994  479.850006   88813\n",
       "2020-11-12 13:05:00  479.799988  480.049988  479.750000  480.000000  130986\n",
       "2020-11-12 13:06:19  480.000000  480.000000  480.000000  480.000000       0"
      ]
     },
     "execution_count": 19,
     "metadata": {},
     "output_type": "execute_result"
    }
   ],
   "source": [
    "await async_quote_data(\"BHARTIARTL\")"
   ]
  },
  {
   "cell_type": "code",
   "execution_count": 21,
   "metadata": {},
   "outputs": [
    {
     "data": {
      "text/html": [
       "<div>\n",
       "<style scoped>\n",
       "    .dataframe tbody tr th:only-of-type {\n",
       "        vertical-align: middle;\n",
       "    }\n",
       "\n",
       "    .dataframe tbody tr th {\n",
       "        vertical-align: top;\n",
       "    }\n",
       "\n",
       "    .dataframe thead th {\n",
       "        text-align: right;\n",
       "    }\n",
       "</style>\n",
       "<table border=\"1\" class=\"dataframe\">\n",
       "  <thead>\n",
       "    <tr style=\"text-align: right;\">\n",
       "      <th></th>\n",
       "      <th>Open</th>\n",
       "      <th>High</th>\n",
       "      <th>Low</th>\n",
       "      <th>Close</th>\n",
       "      <th>Volume</th>\n",
       "    </tr>\n",
       "    <tr>\n",
       "      <th>Date</th>\n",
       "      <th></th>\n",
       "      <th></th>\n",
       "      <th></th>\n",
       "      <th></th>\n",
       "      <th></th>\n",
       "    </tr>\n",
       "  </thead>\n",
       "  <tbody>\n",
       "    <tr>\n",
       "      <th>2020-11-12 14:00:00</th>\n",
       "      <td>4864.000000</td>\n",
       "      <td>4864.000000</td>\n",
       "      <td>4852.950195</td>\n",
       "      <td>4856.700195</td>\n",
       "      <td>9628</td>\n",
       "    </tr>\n",
       "    <tr>\n",
       "      <th>2020-11-12 14:05:00</th>\n",
       "      <td>4854.899902</td>\n",
       "      <td>4855.600098</td>\n",
       "      <td>4847.100098</td>\n",
       "      <td>4850.750000</td>\n",
       "      <td>17944</td>\n",
       "    </tr>\n",
       "    <tr>\n",
       "      <th>2020-11-12 14:10:00</th>\n",
       "      <td>4851.000000</td>\n",
       "      <td>4859.450195</td>\n",
       "      <td>4850.649902</td>\n",
       "      <td>4857.000000</td>\n",
       "      <td>9863</td>\n",
       "    </tr>\n",
       "    <tr>\n",
       "      <th>2020-11-12 14:15:00</th>\n",
       "      <td>4856.950195</td>\n",
       "      <td>4858.000000</td>\n",
       "      <td>4852.649902</td>\n",
       "      <td>4856.950195</td>\n",
       "      <td>2248</td>\n",
       "    </tr>\n",
       "    <tr>\n",
       "      <th>2020-11-12 14:18:40</th>\n",
       "      <td>4855.950195</td>\n",
       "      <td>4855.950195</td>\n",
       "      <td>4855.950195</td>\n",
       "      <td>4855.950195</td>\n",
       "      <td>0</td>\n",
       "    </tr>\n",
       "  </tbody>\n",
       "</table>\n",
       "</div>"
      ],
      "text/plain": [
       "                            Open         High          Low        Close  \\\n",
       "Date                                                                      \n",
       "2020-11-12 14:00:00  4864.000000  4864.000000  4852.950195  4856.700195   \n",
       "2020-11-12 14:05:00  4854.899902  4855.600098  4847.100098  4850.750000   \n",
       "2020-11-12 14:10:00  4851.000000  4859.450195  4850.649902  4857.000000   \n",
       "2020-11-12 14:15:00  4856.950195  4858.000000  4852.649902  4856.950195   \n",
       "2020-11-12 14:18:40  4855.950195  4855.950195  4855.950195  4855.950195   \n",
       "\n",
       "                     Volume  \n",
       "Date                         \n",
       "2020-11-12 14:00:00    9628  \n",
       "2020-11-12 14:05:00   17944  \n",
       "2020-11-12 14:10:00    9863  \n",
       "2020-11-12 14:15:00    2248  \n",
       "2020-11-12 14:18:40       0  "
      ]
     },
     "execution_count": 21,
     "metadata": {},
     "output_type": "execute_result"
    }
   ],
   "source": [
    "await async_quote_data(\"DRREDDY\")"
   ]
  },
  {
   "cell_type": "code",
   "execution_count": 114,
   "metadata": {},
   "outputs": [
    {
     "name": "stderr",
     "output_type": "stream",
     "text": [
      "Unclosed client session\n",
      "client_session: <aiohttp.client.ClientSession object at 0x00000277B9861BA8>\n",
      "Unclosed connector\n",
      "connections: ['[(<aiohttp.client_proto.ResponseHandler object at 0x00000277B9A6F8D0>, 37447.687)]']\n",
      "connector: <aiohttp.connector.TCPConnector object at 0x00000277B993F518>\n"
     ]
    },
    {
     "name": "stdout",
     "output_type": "stream",
     "text": [
      "Done\n",
      "2\n"
     ]
    },
    {
     "data": {
      "text/plain": [
       "[                            Open         High          Low        Close  \\\n",
       " Date                                                                      \n",
       " 2020-11-09 15:00:00  2048.100098  2051.949951  2048.100098  2051.949951   \n",
       " 2020-11-09 15:05:00  2051.949951  2051.949951  2049.250000  2049.850098   \n",
       " 2020-11-09 15:10:00  2049.750000  2053.300049  2048.399902  2052.649902   \n",
       " 2020-11-09 15:15:00  2052.750000  2053.350098  2050.399902  2051.649902   \n",
       " 2020-11-09 15:20:00  2051.649902  2052.600098  2047.300049  2051.750000   \n",
       " 2020-11-09 15:25:00  2051.750000  2052.000000  2049.000000  2050.050049   \n",
       " \n",
       "                      Volume  \n",
       " Date                         \n",
       " 2020-11-09 15:00:00  214171  \n",
       " 2020-11-09 15:05:00  271131  \n",
       " 2020-11-09 15:10:00  457624  \n",
       " 2020-11-09 15:15:00  461261  \n",
       " 2020-11-09 15:20:00  442776  \n",
       " 2020-11-09 15:25:00  252248  ,\n",
       " None]"
      ]
     },
     "execution_count": 114,
     "metadata": {},
     "output_type": "execute_result"
    }
   ],
   "source": [
    "await asyncio.gather(async_quote_data(\"RELIANCE\"),rio(2))"
   ]
  },
  {
   "cell_type": "code",
   "execution_count": null,
   "metadata": {},
   "outputs": [],
   "source": []
  }
 ],
 "metadata": {
  "kernelspec": {
   "display_name": "Python 3",
   "language": "python",
   "name": "python3"
  },
  "language_info": {
   "codemirror_mode": {
    "name": "ipython",
    "version": 3
   },
   "file_extension": ".py",
   "mimetype": "text/x-python",
   "name": "python",
   "nbconvert_exporter": "python",
   "pygments_lexer": "ipython3",
   "version": "3.7.1"
  },
  "toc": {
   "base_numbering": 1,
   "nav_menu": {},
   "number_sections": true,
   "sideBar": true,
   "skip_h1_title": false,
   "title_cell": "Table of Contents",
   "title_sidebar": "Contents",
   "toc_cell": false,
   "toc_position": {},
   "toc_section_display": true,
   "toc_window_display": false
  },
  "varInspector": {
   "cols": {
    "lenName": 16,
    "lenType": 16,
    "lenVar": 40
   },
   "kernels_config": {
    "python": {
     "delete_cmd_postfix": "",
     "delete_cmd_prefix": "del ",
     "library": "var_list.py",
     "varRefreshCmd": "print(var_dic_list())"
    },
    "r": {
     "delete_cmd_postfix": ") ",
     "delete_cmd_prefix": "rm(",
     "library": "var_list.r",
     "varRefreshCmd": "cat(var_dic_list()) "
    }
   },
   "types_to_exclude": [
    "module",
    "function",
    "builtin_function_or_method",
    "instance",
    "_Feature"
   ],
   "window_display": false
  }
 },
 "nbformat": 4,
 "nbformat_minor": 4
}
