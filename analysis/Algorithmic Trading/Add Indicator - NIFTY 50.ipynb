{
 "cells": [
  {
   "cell_type": "code",
   "execution_count": 1,
   "metadata": {},
   "outputs": [],
   "source": [
    "import requests\n",
    "import pandas as pd\n",
    "import arrow\n",
    "import datetime\n",
    "import warnings"
   ]
  },
  {
   "cell_type": "code",
   "execution_count": 2,
   "metadata": {},
   "outputs": [],
   "source": [
    "#company =[ \"CIPLA\",\"TCS\",\"INFY\",\"INFRATEL\",\"ITC\",\"HCLTECH\",\"VEDL\",\"WIPRO\",\"BRITANNIA\",\"UPL\",\"RELIANCE\",\"TECHM\",\"M_M\",\"SUNPHARMA\",\"NESTLEIND\",\n",
    "#\"HINDUNILVR\",\"DRREDDY\",\"TATASTEEL\",\"BHARTIARTL\",\"NTPC\",\"ONGC\",\"TITAN\",\"POWERGRID\",\"HINDALCO\",\"ASIANPAINT\",\"TATAMOTORS\",\"SHREECEM\",\n",
    "#\"GRASIM\",\"IOC\",\"HEROMOTOCO\",\"BAJAJFINSV\",\"ADANIPORTS\",\"EICHERMOT\",\"COALINDIA\",\"JSWSTEEL\",\"KOTAKBANK\",\"LT\",\"GAIL\",\"HDFCBANK\",\n",
    "#\"SBIN\",\"BAJAJ-AUTO\",\"BAJFINANCE\",\"BPCL\",\"HDFC\",\"MARUTI\",\"ULTRACEMCO\",\"AXISBANK\",\"ICICIBANK\",\"ZEEL\",\"INDUSINDBK\" ]\n",
    "\n",
    "company = [\"ICICIBANK\",\"ZEEL\",\"INDUSINDBK\"]"
   ]
  },
  {
   "cell_type": "code",
   "execution_count": 3,
   "metadata": {},
   "outputs": [],
   "source": [
    "spanb = 10 #Span for Bollinger Bands\n",
    "spanv = 5  #Span for VWAP\n",
    "span = 14  #Span for ATR and RSI\n",
    "stds = 2   #No. of standard deviations for Bollinger Bands"
   ]
  },
  {
   "cell_type": "code",
   "execution_count": 4,
   "metadata": {},
   "outputs": [],
   "source": [
    "def VWAP(ndata, spanv):\n",
    "    num = (((ndata['High']+ndata['Low']+ndata['Close'])/3)*ndata['Volume']).rolling(spanv).sum()\n",
    "    den = ndata['Volume'].rolling(spanv).sum()\n",
    "    return num/den"
   ]
  },
  {
   "cell_type": "code",
   "execution_count": 5,
   "metadata": {},
   "outputs": [],
   "source": [
    "def BB(ndata, spanb, stds): \n",
    "    ndata['UBB'] = ndata.Close.rolling(spanb).mean() + stds*ndata.Close.rolling(spanb).std()\n",
    "    ndata['MBB'] = ndata.Close.rolling(spanb).mean()\n",
    "    ndata['LBB'] = ndata.Close.rolling(spanb).mean() - stds*ndata.Close.rolling(spanb).std()\n",
    "    return ndata"
   ]
  },
  {
   "cell_type": "code",
   "execution_count": 6,
   "metadata": {},
   "outputs": [],
   "source": [
    "def ATR(ndata, span):\n",
    "    return pd.DataFrame([ndata['High']-ndata['Low'],abs(ndata['High']-ndata['Close'].rolling(2).sum()+ndata['Close']),abs(ndata['Low']-ndata['Close'].rolling(2).sum()+ndata['Close'])]).max(axis = 0).rolling(span).mean()"
   ]
  },
  {
   "cell_type": "code",
   "execution_count": 7,
   "metadata": {},
   "outputs": [],
   "source": [
    "def RSI(got, span):\n",
    "    got['Gain'] = got['Close']-(got['Close'].rolling(2).sum()-got['Close'])\n",
    "    got['Gain'][got['Gain']<0]=0\n",
    "    got['Loss'] = -(got['Close']-(got['Close'].rolling(2).sum()-got['Close']))\n",
    "    got['Loss'][got['Loss']<0]=0\n",
    "    got['Average Gain'] = float(\"NaN\")\n",
    "    got['Average Loss'] = float(\"NaN\")\n",
    "    got['Average Gain'][14] = got['Gain'][1:15].mean()\n",
    "    got['Average Loss'][14] = got['Loss'][1:15].mean()\n",
    "    \n",
    "    for j in range(15,len(got)):\n",
    "        got['Average Gain'][j] = (got['Average Gain'][j-1]*13 + got['Gain'][j])/14\n",
    "        got['Average Loss'][j] = (got['Average Loss'][j-1]*13 + got['Loss'][j])/14\n",
    "        \n",
    "    got['RSI'] = 100 - 100 / (1+ got['Average Gain'] / got['Average Loss'])\n",
    "    return got['RSI'][0:len(got)]"
   ]
  },
  {
   "cell_type": "code",
   "execution_count": 8,
   "metadata": {},
   "outputs": [
    {
     "name": "stdout",
     "output_type": "stream",
     "text": [
      "ICICIBANK\n",
      "ZEEL\n",
      "INDUSINDBK\n"
     ]
    }
   ],
   "source": [
    "for i in company :\n",
    "    print(i)\n",
    "    data = pd.read_csv('C:/Users/user/Stockomation/Github/Data/Updated/NIFTY 50/1MIN/'+i+'.csv')\n",
    "    data.rename(columns={'open': 'Open', 'high' : 'High', 'low' : 'Low', 'close': 'Close', 'volume' : 'Volume'}, inplace = True)\n",
    "    warnings.filterwarnings(\"ignore\")\n",
    "    data['RSI'] = RSI(data, span)\n",
    "    data.set_index('Datetime', inplace = True)\n",
    "    data['VWAP'] = VWAP(data, spanv)\n",
    "    data = BB(data, spanb, stds)\n",
    "    data['ATR'] = ATR(data, span)\n",
    "    data.to_csv('C:/Users/user/Stockomation/Github/Data/Updated/NIFTY 50/1MIN/'+i+'.csv')"
   ]
  }
 ],
 "metadata": {
  "kernelspec": {
   "display_name": "Python 3",
   "language": "python",
   "name": "python3"
  },
  "language_info": {
   "codemirror_mode": {
    "name": "ipython",
    "version": 3
   },
   "file_extension": ".py",
   "mimetype": "text/x-python",
   "name": "python",
   "nbconvert_exporter": "python",
   "pygments_lexer": "ipython3",
   "version": "3.7.1"
  }
 },
 "nbformat": 4,
 "nbformat_minor": 2
}
