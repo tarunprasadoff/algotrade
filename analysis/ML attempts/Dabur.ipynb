{
 "cells": [
  {
   "cell_type": "code",
   "execution_count": 1,
   "metadata": {
    "colab": {
     "base_uri": "https://localhost:8080/",
     "height": 34
    },
    "colab_type": "code",
    "executionInfo": {
     "elapsed": 20605,
     "status": "ok",
     "timestamp": 1588730026400,
     "user": {
      "displayName": "S Tarun Prasad me17b114",
      "photoUrl": "",
      "userId": "15019596406314623392"
     },
     "user_tz": -330
    },
    "id": "rPMlCEB7vrFB",
    "outputId": "81c19601-d777-4686-cd90-86254ab57328"
   },
   "outputs": [
    {
     "name": "stdout",
     "output_type": "stream",
     "text": [
      "  Building wheel for tensorflow-docs (setup.py) ... \u001b[?25l\u001b[?25hdone\n"
     ]
    }
   ],
   "source": [
    "# Use seaborn for pairplot\n",
    "!pip install -q seaborn\n",
    "\n",
    "# Use some functions from tensorflow_docs\n",
    "!pip install -q git+https://github.com/tensorflow/docs"
   ]
  },
  {
   "cell_type": "code",
   "execution_count": 2,
   "metadata": {
    "colab": {
     "base_uri": "https://localhost:8080/",
     "height": 70
    },
    "colab_type": "code",
    "executionInfo": {
     "elapsed": 1186,
     "status": "ok",
     "timestamp": 1588730030891,
     "user": {
      "displayName": "S Tarun Prasad me17b114",
      "photoUrl": "",
      "userId": "15019596406314623392"
     },
     "user_tz": -330
    },
    "id": "OPl282fVM-9W",
    "outputId": "e3a6112e-a08f-4dbe-878d-ac0116d4aa2a"
   },
   "outputs": [
    {
     "name": "stderr",
     "output_type": "stream",
     "text": [
      "/usr/local/lib/python3.6/dist-packages/statsmodels/tools/_testing.py:19: FutureWarning: pandas.util.testing is deprecated. Use the functions in the public API at pandas.testing instead.\n",
      "  import pandas.util.testing as tm\n"
     ]
    }
   ],
   "source": [
    "import pathlib\n",
    "\n",
    "import matplotlib.pyplot as plt\n",
    "import numpy as np\n",
    "import pandas as pd\n",
    "import seaborn as sns"
   ]
  },
  {
   "cell_type": "code",
   "execution_count": 3,
   "metadata": {
    "colab": {
     "base_uri": "https://localhost:8080/",
     "height": 34
    },
    "colab_type": "code",
    "executionInfo": {
     "elapsed": 2572,
     "status": "ok",
     "timestamp": 1588730035773,
     "user": {
      "displayName": "S Tarun Prasad me17b114",
      "photoUrl": "",
      "userId": "15019596406314623392"
     },
     "user_tz": -330
    },
    "id": "Gu2M8Rasv7kX",
    "outputId": "7c76ba42-0eb7-4bca-b567-5c88b12d2253"
   },
   "outputs": [
    {
     "name": "stdout",
     "output_type": "stream",
     "text": [
      "2.2.0-rc4\n"
     ]
    }
   ],
   "source": [
    "import tensorflow as tf\n",
    "\n",
    "from tensorflow import keras\n",
    "from tensorflow.keras import layers\n",
    "\n",
    "print(tf.__version__)"
   ]
  },
  {
   "cell_type": "code",
   "execution_count": 0,
   "metadata": {
    "colab": {},
    "colab_type": "code",
    "id": "5G4lV1ihwKjA"
   },
   "outputs": [],
   "source": [
    "import tensorflow_docs as tfdocs\n",
    "import tensorflow_docs.plots\n",
    "import tensorflow_docs.modeling"
   ]
  },
  {
   "cell_type": "code",
   "execution_count": 0,
   "metadata": {
    "colab": {},
    "colab_type": "code",
    "id": "O2Cn8-OTwO78"
   },
   "outputs": [],
   "source": [
    "data = pd.read_csv ('/content/DABUR.NS.csv')\n",
    "temp=pd.DataFrame(data, columns= ['Open','High','Low','Close','Adj Close','Volume']).dropna()\n",
    "ON=np.array(temp.iloc[1:len(temp),0])\n",
    "res=np.array(temp.iloc[11:len(temp),3])\n",
    "temp.drop(temp.index[len(temp)-1], inplace=True)\n",
    "temp.drop(columns=['Open'], inplace=True)\n",
    "temp['ON']=ON\n",
    "a1=np.array(temp.iloc[9:len(temp)-1])\n",
    "a2=np.array(temp.iloc[8:len(temp)-2])\n",
    "a3=np.array(temp.iloc[7:len(temp)-3])\n",
    "a4=np.array(temp.iloc[6:len(temp)-4])\n",
    "a5=np.array(temp.iloc[5:len(temp)-5])\n",
    "a6=np.array(temp.iloc[4:len(temp)-6])\n",
    "a7=np.array(temp.iloc[3:len(temp)-7])\n",
    "a8=np.array(temp.iloc[2:len(temp)-8])\n",
    "a9=np.array(temp.iloc[1:len(temp)-9])\n",
    "a10=np.array(temp.iloc[0:len(temp)-10])\n",
    "temp.drop(temp.index[0:10], inplace=True)"
   ]
  },
  {
   "cell_type": "code",
   "execution_count": 6,
   "metadata": {
    "colab": {
     "base_uri": "https://localhost:8080/",
     "height": 422
    },
    "colab_type": "code",
    "executionInfo": {
     "elapsed": 1374,
     "status": "ok",
     "timestamp": 1588730053388,
     "user": {
      "displayName": "S Tarun Prasad me17b114",
      "photoUrl": "",
      "userId": "15019596406314623392"
     },
     "user_tz": -330
    },
    "id": "FE4kddg18wPE",
    "outputId": "f44d0240-c69e-4cdd-eb70-4c5f7e888f1a"
   },
   "outputs": [
    {
     "data": {
      "text/html": [
       "<div>\n",
       "<style scoped>\n",
       "    .dataframe tbody tr th:only-of-type {\n",
       "        vertical-align: middle;\n",
       "    }\n",
       "\n",
       "    .dataframe tbody tr th {\n",
       "        vertical-align: top;\n",
       "    }\n",
       "\n",
       "    .dataframe thead th {\n",
       "        text-align: right;\n",
       "    }\n",
       "</style>\n",
       "<table border=\"1\" class=\"dataframe\">\n",
       "  <thead>\n",
       "    <tr style=\"text-align: right;\">\n",
       "      <th></th>\n",
       "      <th>High</th>\n",
       "      <th>Low</th>\n",
       "      <th>Close</th>\n",
       "      <th>Adj Close</th>\n",
       "      <th>Volume</th>\n",
       "      <th>ON</th>\n",
       "      <th>O1</th>\n",
       "      <th>H1</th>\n",
       "      <th>L1</th>\n",
       "      <th>C1</th>\n",
       "      <th>AC1</th>\n",
       "      <th>V1</th>\n",
       "      <th>O2</th>\n",
       "      <th>H2</th>\n",
       "      <th>L2</th>\n",
       "      <th>C2</th>\n",
       "      <th>AC2</th>\n",
       "      <th>V2</th>\n",
       "      <th>O3</th>\n",
       "      <th>H3</th>\n",
       "      <th>L3</th>\n",
       "      <th>C3</th>\n",
       "      <th>AC3</th>\n",
       "      <th>V3</th>\n",
       "      <th>O4</th>\n",
       "      <th>H4</th>\n",
       "      <th>L4</th>\n",
       "      <th>C4</th>\n",
       "      <th>AC4</th>\n",
       "      <th>V4</th>\n",
       "      <th>O5</th>\n",
       "      <th>H5</th>\n",
       "      <th>L5</th>\n",
       "      <th>C5</th>\n",
       "      <th>AC5</th>\n",
       "      <th>V5</th>\n",
       "      <th>O6</th>\n",
       "      <th>H6</th>\n",
       "      <th>L6</th>\n",
       "      <th>C6</th>\n",
       "      <th>AC6</th>\n",
       "      <th>V6</th>\n",
       "      <th>O7</th>\n",
       "      <th>H7</th>\n",
       "      <th>L7</th>\n",
       "      <th>C7</th>\n",
       "      <th>AC7</th>\n",
       "      <th>V7</th>\n",
       "      <th>O8</th>\n",
       "      <th>H8</th>\n",
       "      <th>L8</th>\n",
       "      <th>C8</th>\n",
       "      <th>AC8</th>\n",
       "      <th>V8</th>\n",
       "      <th>O9</th>\n",
       "      <th>H9</th>\n",
       "      <th>L9</th>\n",
       "      <th>C9</th>\n",
       "      <th>AC9</th>\n",
       "      <th>V9</th>\n",
       "      <th>O10</th>\n",
       "      <th>H10</th>\n",
       "      <th>L10</th>\n",
       "      <th>C10</th>\n",
       "      <th>AC10</th>\n",
       "      <th>V10</th>\n",
       "      <th>result</th>\n",
       "    </tr>\n",
       "  </thead>\n",
       "  <tbody>\n",
       "    <tr>\n",
       "      <th>10</th>\n",
       "      <td>8.815000</td>\n",
       "      <td>8.600000</td>\n",
       "      <td>8.625000</td>\n",
       "      <td>3.946297</td>\n",
       "      <td>447222.0</td>\n",
       "      <td>8.665</td>\n",
       "      <td>9.000000</td>\n",
       "      <td>8.735000</td>\n",
       "      <td>8.785000</td>\n",
       "      <td>4.019503</td>\n",
       "      <td>731904.0</td>\n",
       "      <td>8.815</td>\n",
       "      <td>8.950000</td>\n",
       "      <td>8.790000</td>\n",
       "      <td>8.815000</td>\n",
       "      <td>4.033228</td>\n",
       "      <td>833010.0</td>\n",
       "      <td>9.000</td>\n",
       "      <td>9.335000</td>\n",
       "      <td>8.815000</td>\n",
       "      <td>8.910000</td>\n",
       "      <td>4.076694</td>\n",
       "      <td>2063592.0</td>\n",
       "      <td>8.950000</td>\n",
       "      <td>9.325000</td>\n",
       "      <td>8.935000</td>\n",
       "      <td>8.985000</td>\n",
       "      <td>4.111011</td>\n",
       "      <td>1227414.0</td>\n",
       "      <td>9.115000</td>\n",
       "      <td>9.435000</td>\n",
       "      <td>9.000000</td>\n",
       "      <td>9.200000</td>\n",
       "      <td>4.209382</td>\n",
       "      <td>3198990.0</td>\n",
       "      <td>9.325000</td>\n",
       "      <td>9.000000</td>\n",
       "      <td>8.565000</td>\n",
       "      <td>8.815000</td>\n",
       "      <td>4.033228</td>\n",
       "      <td>3139716.0</td>\n",
       "      <td>9.250000</td>\n",
       "      <td>8.665000</td>\n",
       "      <td>8.540000</td>\n",
       "      <td>8.560000</td>\n",
       "      <td>3.916556</td>\n",
       "      <td>1589202.0</td>\n",
       "      <td>8.635000</td>\n",
       "      <td>8.640000</td>\n",
       "      <td>8.540000</td>\n",
       "      <td>8.585000</td>\n",
       "      <td>3.927994</td>\n",
       "      <td>1304064.0</td>\n",
       "      <td>8.660000</td>\n",
       "      <td>8.615000</td>\n",
       "      <td>8.525000</td>\n",
       "      <td>8.585000</td>\n",
       "      <td>3.927994</td>\n",
       "      <td>925272.0</td>\n",
       "      <td>8.585000</td>\n",
       "      <td>8.675000</td>\n",
       "      <td>8.535000</td>\n",
       "      <td>8.585000</td>\n",
       "      <td>3.927994</td>\n",
       "      <td>2331240.0</td>\n",
       "      <td>8.575000</td>\n",
       "      <td>8.560000</td>\n",
       "    </tr>\n",
       "    <tr>\n",
       "      <th>11</th>\n",
       "      <td>8.665000</td>\n",
       "      <td>8.535000</td>\n",
       "      <td>8.560000</td>\n",
       "      <td>3.916556</td>\n",
       "      <td>563910.0</td>\n",
       "      <td>8.540</td>\n",
       "      <td>8.815000</td>\n",
       "      <td>8.600000</td>\n",
       "      <td>8.625000</td>\n",
       "      <td>3.946297</td>\n",
       "      <td>447222.0</td>\n",
       "      <td>8.665</td>\n",
       "      <td>9.000000</td>\n",
       "      <td>8.735000</td>\n",
       "      <td>8.785000</td>\n",
       "      <td>4.019503</td>\n",
       "      <td>731904.0</td>\n",
       "      <td>8.815</td>\n",
       "      <td>8.950000</td>\n",
       "      <td>8.790000</td>\n",
       "      <td>8.815000</td>\n",
       "      <td>4.033228</td>\n",
       "      <td>833010.0</td>\n",
       "      <td>9.000000</td>\n",
       "      <td>9.335000</td>\n",
       "      <td>8.815000</td>\n",
       "      <td>8.910000</td>\n",
       "      <td>4.076694</td>\n",
       "      <td>2063592.0</td>\n",
       "      <td>8.950000</td>\n",
       "      <td>9.325000</td>\n",
       "      <td>8.935000</td>\n",
       "      <td>8.985000</td>\n",
       "      <td>4.111011</td>\n",
       "      <td>1227414.0</td>\n",
       "      <td>9.115000</td>\n",
       "      <td>9.435000</td>\n",
       "      <td>9.000000</td>\n",
       "      <td>9.200000</td>\n",
       "      <td>4.209382</td>\n",
       "      <td>3198990.0</td>\n",
       "      <td>9.325000</td>\n",
       "      <td>9.000000</td>\n",
       "      <td>8.565000</td>\n",
       "      <td>8.815000</td>\n",
       "      <td>4.033228</td>\n",
       "      <td>3139716.0</td>\n",
       "      <td>9.250000</td>\n",
       "      <td>8.665000</td>\n",
       "      <td>8.540000</td>\n",
       "      <td>8.560000</td>\n",
       "      <td>3.916556</td>\n",
       "      <td>1589202.0</td>\n",
       "      <td>8.635000</td>\n",
       "      <td>8.640000</td>\n",
       "      <td>8.540000</td>\n",
       "      <td>8.585000</td>\n",
       "      <td>3.927994</td>\n",
       "      <td>1304064.0</td>\n",
       "      <td>8.660000</td>\n",
       "      <td>8.615000</td>\n",
       "      <td>8.525000</td>\n",
       "      <td>8.585000</td>\n",
       "      <td>3.927994</td>\n",
       "      <td>925272.0</td>\n",
       "      <td>8.585000</td>\n",
       "      <td>8.410000</td>\n",
       "    </tr>\n",
       "    <tr>\n",
       "      <th>12</th>\n",
       "      <td>8.575000</td>\n",
       "      <td>8.385000</td>\n",
       "      <td>8.410000</td>\n",
       "      <td>3.847924</td>\n",
       "      <td>1429992.0</td>\n",
       "      <td>8.515</td>\n",
       "      <td>8.665000</td>\n",
       "      <td>8.535000</td>\n",
       "      <td>8.560000</td>\n",
       "      <td>3.916556</td>\n",
       "      <td>563910.0</td>\n",
       "      <td>8.540</td>\n",
       "      <td>8.815000</td>\n",
       "      <td>8.600000</td>\n",
       "      <td>8.625000</td>\n",
       "      <td>3.946297</td>\n",
       "      <td>447222.0</td>\n",
       "      <td>8.665</td>\n",
       "      <td>9.000000</td>\n",
       "      <td>8.735000</td>\n",
       "      <td>8.785000</td>\n",
       "      <td>4.019503</td>\n",
       "      <td>731904.0</td>\n",
       "      <td>8.815000</td>\n",
       "      <td>8.950000</td>\n",
       "      <td>8.790000</td>\n",
       "      <td>8.815000</td>\n",
       "      <td>4.033228</td>\n",
       "      <td>833010.0</td>\n",
       "      <td>9.000000</td>\n",
       "      <td>9.335000</td>\n",
       "      <td>8.815000</td>\n",
       "      <td>8.910000</td>\n",
       "      <td>4.076694</td>\n",
       "      <td>2063592.0</td>\n",
       "      <td>8.950000</td>\n",
       "      <td>9.325000</td>\n",
       "      <td>8.935000</td>\n",
       "      <td>8.985000</td>\n",
       "      <td>4.111011</td>\n",
       "      <td>1227414.0</td>\n",
       "      <td>9.115000</td>\n",
       "      <td>9.435000</td>\n",
       "      <td>9.000000</td>\n",
       "      <td>9.200000</td>\n",
       "      <td>4.209382</td>\n",
       "      <td>3198990.0</td>\n",
       "      <td>9.325000</td>\n",
       "      <td>9.000000</td>\n",
       "      <td>8.565000</td>\n",
       "      <td>8.815000</td>\n",
       "      <td>4.033228</td>\n",
       "      <td>3139716.0</td>\n",
       "      <td>9.250000</td>\n",
       "      <td>8.665000</td>\n",
       "      <td>8.540000</td>\n",
       "      <td>8.560000</td>\n",
       "      <td>3.916556</td>\n",
       "      <td>1589202.0</td>\n",
       "      <td>8.635000</td>\n",
       "      <td>8.640000</td>\n",
       "      <td>8.540000</td>\n",
       "      <td>8.585000</td>\n",
       "      <td>3.927994</td>\n",
       "      <td>1304064.0</td>\n",
       "      <td>8.660000</td>\n",
       "      <td>8.490000</td>\n",
       "    </tr>\n",
       "    <tr>\n",
       "      <th>13</th>\n",
       "      <td>8.540000</td>\n",
       "      <td>8.415000</td>\n",
       "      <td>8.490000</td>\n",
       "      <td>3.884527</td>\n",
       "      <td>647460.0</td>\n",
       "      <td>8.565</td>\n",
       "      <td>8.575000</td>\n",
       "      <td>8.385000</td>\n",
       "      <td>8.410000</td>\n",
       "      <td>3.847924</td>\n",
       "      <td>1429992.0</td>\n",
       "      <td>8.515</td>\n",
       "      <td>8.665000</td>\n",
       "      <td>8.535000</td>\n",
       "      <td>8.560000</td>\n",
       "      <td>3.916556</td>\n",
       "      <td>563910.0</td>\n",
       "      <td>8.540</td>\n",
       "      <td>8.815000</td>\n",
       "      <td>8.600000</td>\n",
       "      <td>8.625000</td>\n",
       "      <td>3.946297</td>\n",
       "      <td>447222.0</td>\n",
       "      <td>8.665000</td>\n",
       "      <td>9.000000</td>\n",
       "      <td>8.735000</td>\n",
       "      <td>8.785000</td>\n",
       "      <td>4.019503</td>\n",
       "      <td>731904.0</td>\n",
       "      <td>8.815000</td>\n",
       "      <td>8.950000</td>\n",
       "      <td>8.790000</td>\n",
       "      <td>8.815000</td>\n",
       "      <td>4.033228</td>\n",
       "      <td>833010.0</td>\n",
       "      <td>9.000000</td>\n",
       "      <td>9.335000</td>\n",
       "      <td>8.815000</td>\n",
       "      <td>8.910000</td>\n",
       "      <td>4.076694</td>\n",
       "      <td>2063592.0</td>\n",
       "      <td>8.950000</td>\n",
       "      <td>9.325000</td>\n",
       "      <td>8.935000</td>\n",
       "      <td>8.985000</td>\n",
       "      <td>4.111011</td>\n",
       "      <td>1227414.0</td>\n",
       "      <td>9.115000</td>\n",
       "      <td>9.435000</td>\n",
       "      <td>9.000000</td>\n",
       "      <td>9.200000</td>\n",
       "      <td>4.209382</td>\n",
       "      <td>3198990.0</td>\n",
       "      <td>9.325000</td>\n",
       "      <td>9.000000</td>\n",
       "      <td>8.565000</td>\n",
       "      <td>8.815000</td>\n",
       "      <td>4.033228</td>\n",
       "      <td>3139716.0</td>\n",
       "      <td>9.250000</td>\n",
       "      <td>8.665000</td>\n",
       "      <td>8.540000</td>\n",
       "      <td>8.560000</td>\n",
       "      <td>3.916556</td>\n",
       "      <td>1589202.0</td>\n",
       "      <td>8.635000</td>\n",
       "      <td>8.465000</td>\n",
       "    </tr>\n",
       "    <tr>\n",
       "      <th>14</th>\n",
       "      <td>8.565000</td>\n",
       "      <td>8.415000</td>\n",
       "      <td>8.465000</td>\n",
       "      <td>3.873089</td>\n",
       "      <td>600246.0</td>\n",
       "      <td>8.500</td>\n",
       "      <td>8.540000</td>\n",
       "      <td>8.415000</td>\n",
       "      <td>8.490000</td>\n",
       "      <td>3.884527</td>\n",
       "      <td>647460.0</td>\n",
       "      <td>8.565</td>\n",
       "      <td>8.575000</td>\n",
       "      <td>8.385000</td>\n",
       "      <td>8.410000</td>\n",
       "      <td>3.847924</td>\n",
       "      <td>1429992.0</td>\n",
       "      <td>8.515</td>\n",
       "      <td>8.665000</td>\n",
       "      <td>8.535000</td>\n",
       "      <td>8.560000</td>\n",
       "      <td>3.916556</td>\n",
       "      <td>563910.0</td>\n",
       "      <td>8.540000</td>\n",
       "      <td>8.815000</td>\n",
       "      <td>8.600000</td>\n",
       "      <td>8.625000</td>\n",
       "      <td>3.946297</td>\n",
       "      <td>447222.0</td>\n",
       "      <td>8.665000</td>\n",
       "      <td>9.000000</td>\n",
       "      <td>8.735000</td>\n",
       "      <td>8.785000</td>\n",
       "      <td>4.019503</td>\n",
       "      <td>731904.0</td>\n",
       "      <td>8.815000</td>\n",
       "      <td>8.950000</td>\n",
       "      <td>8.790000</td>\n",
       "      <td>8.815000</td>\n",
       "      <td>4.033228</td>\n",
       "      <td>833010.0</td>\n",
       "      <td>9.000000</td>\n",
       "      <td>9.335000</td>\n",
       "      <td>8.815000</td>\n",
       "      <td>8.910000</td>\n",
       "      <td>4.076694</td>\n",
       "      <td>2063592.0</td>\n",
       "      <td>8.950000</td>\n",
       "      <td>9.325000</td>\n",
       "      <td>8.935000</td>\n",
       "      <td>8.985000</td>\n",
       "      <td>4.111011</td>\n",
       "      <td>1227414.0</td>\n",
       "      <td>9.115000</td>\n",
       "      <td>9.435000</td>\n",
       "      <td>9.000000</td>\n",
       "      <td>9.200000</td>\n",
       "      <td>4.209382</td>\n",
       "      <td>3198990.0</td>\n",
       "      <td>9.325000</td>\n",
       "      <td>9.000000</td>\n",
       "      <td>8.565000</td>\n",
       "      <td>8.815000</td>\n",
       "      <td>4.033228</td>\n",
       "      <td>3139716.0</td>\n",
       "      <td>9.250000</td>\n",
       "      <td>8.090000</td>\n",
       "    </tr>\n",
       "    <tr>\n",
       "      <th>...</th>\n",
       "      <td>...</td>\n",
       "      <td>...</td>\n",
       "      <td>...</td>\n",
       "      <td>...</td>\n",
       "      <td>...</td>\n",
       "      <td>...</td>\n",
       "      <td>...</td>\n",
       "      <td>...</td>\n",
       "      <td>...</td>\n",
       "      <td>...</td>\n",
       "      <td>...</td>\n",
       "      <td>...</td>\n",
       "      <td>...</td>\n",
       "      <td>...</td>\n",
       "      <td>...</td>\n",
       "      <td>...</td>\n",
       "      <td>...</td>\n",
       "      <td>...</td>\n",
       "      <td>...</td>\n",
       "      <td>...</td>\n",
       "      <td>...</td>\n",
       "      <td>...</td>\n",
       "      <td>...</td>\n",
       "      <td>...</td>\n",
       "      <td>...</td>\n",
       "      <td>...</td>\n",
       "      <td>...</td>\n",
       "      <td>...</td>\n",
       "      <td>...</td>\n",
       "      <td>...</td>\n",
       "      <td>...</td>\n",
       "      <td>...</td>\n",
       "      <td>...</td>\n",
       "      <td>...</td>\n",
       "      <td>...</td>\n",
       "      <td>...</td>\n",
       "      <td>...</td>\n",
       "      <td>...</td>\n",
       "      <td>...</td>\n",
       "      <td>...</td>\n",
       "      <td>...</td>\n",
       "      <td>...</td>\n",
       "      <td>...</td>\n",
       "      <td>...</td>\n",
       "      <td>...</td>\n",
       "      <td>...</td>\n",
       "      <td>...</td>\n",
       "      <td>...</td>\n",
       "      <td>...</td>\n",
       "      <td>...</td>\n",
       "      <td>...</td>\n",
       "      <td>...</td>\n",
       "      <td>...</td>\n",
       "      <td>...</td>\n",
       "      <td>...</td>\n",
       "      <td>...</td>\n",
       "      <td>...</td>\n",
       "      <td>...</td>\n",
       "      <td>...</td>\n",
       "      <td>...</td>\n",
       "      <td>...</td>\n",
       "      <td>...</td>\n",
       "      <td>...</td>\n",
       "      <td>...</td>\n",
       "      <td>...</td>\n",
       "      <td>...</td>\n",
       "      <td>...</td>\n",
       "    </tr>\n",
       "    <tr>\n",
       "      <th>4435</th>\n",
       "      <td>504.649994</td>\n",
       "      <td>487.250000</td>\n",
       "      <td>491.750000</td>\n",
       "      <td>491.750000</td>\n",
       "      <td>4482196.0</td>\n",
       "      <td>494.000</td>\n",
       "      <td>503.750000</td>\n",
       "      <td>494.500000</td>\n",
       "      <td>499.049988</td>\n",
       "      <td>499.049988</td>\n",
       "      <td>2376828.0</td>\n",
       "      <td>502.000</td>\n",
       "      <td>516.150024</td>\n",
       "      <td>497.049988</td>\n",
       "      <td>499.000000</td>\n",
       "      <td>499.000000</td>\n",
       "      <td>4322555.0</td>\n",
       "      <td>499.000</td>\n",
       "      <td>504.799988</td>\n",
       "      <td>495.549988</td>\n",
       "      <td>502.700012</td>\n",
       "      <td>502.700012</td>\n",
       "      <td>2801897.0</td>\n",
       "      <td>506.100006</td>\n",
       "      <td>503.000000</td>\n",
       "      <td>484.000000</td>\n",
       "      <td>498.200012</td>\n",
       "      <td>498.200012</td>\n",
       "      <td>4518995.0</td>\n",
       "      <td>498.500000</td>\n",
       "      <td>499.950012</td>\n",
       "      <td>482.500000</td>\n",
       "      <td>492.850006</td>\n",
       "      <td>492.850006</td>\n",
       "      <td>3233932.0</td>\n",
       "      <td>486.500000</td>\n",
       "      <td>515.000000</td>\n",
       "      <td>487.200012</td>\n",
       "      <td>490.100006</td>\n",
       "      <td>490.100006</td>\n",
       "      <td>3429703.0</td>\n",
       "      <td>492.399994</td>\n",
       "      <td>509.000000</td>\n",
       "      <td>492.149994</td>\n",
       "      <td>503.500000</td>\n",
       "      <td>503.500000</td>\n",
       "      <td>3438673.0</td>\n",
       "      <td>515.000000</td>\n",
       "      <td>506.000000</td>\n",
       "      <td>480.000000</td>\n",
       "      <td>502.850006</td>\n",
       "      <td>502.850006</td>\n",
       "      <td>4343214.0</td>\n",
       "      <td>497.750000</td>\n",
       "      <td>492.950012</td>\n",
       "      <td>472.750000</td>\n",
       "      <td>479.799988</td>\n",
       "      <td>479.799988</td>\n",
       "      <td>2769922.0</td>\n",
       "      <td>480.000000</td>\n",
       "      <td>514.000000</td>\n",
       "      <td>479.250000</td>\n",
       "      <td>485.350006</td>\n",
       "      <td>485.350006</td>\n",
       "      <td>5377864.0</td>\n",
       "      <td>485.899994</td>\n",
       "      <td>487.549988</td>\n",
       "    </tr>\n",
       "    <tr>\n",
       "      <th>4436</th>\n",
       "      <td>494.399994</td>\n",
       "      <td>482.399994</td>\n",
       "      <td>487.549988</td>\n",
       "      <td>487.549988</td>\n",
       "      <td>2010508.0</td>\n",
       "      <td>490.000</td>\n",
       "      <td>504.649994</td>\n",
       "      <td>487.250000</td>\n",
       "      <td>491.750000</td>\n",
       "      <td>491.750000</td>\n",
       "      <td>4482196.0</td>\n",
       "      <td>494.000</td>\n",
       "      <td>503.750000</td>\n",
       "      <td>494.500000</td>\n",
       "      <td>499.049988</td>\n",
       "      <td>499.049988</td>\n",
       "      <td>2376828.0</td>\n",
       "      <td>502.000</td>\n",
       "      <td>516.150024</td>\n",
       "      <td>497.049988</td>\n",
       "      <td>499.000000</td>\n",
       "      <td>499.000000</td>\n",
       "      <td>4322555.0</td>\n",
       "      <td>499.000000</td>\n",
       "      <td>504.799988</td>\n",
       "      <td>495.549988</td>\n",
       "      <td>502.700012</td>\n",
       "      <td>502.700012</td>\n",
       "      <td>2801897.0</td>\n",
       "      <td>506.100006</td>\n",
       "      <td>503.000000</td>\n",
       "      <td>484.000000</td>\n",
       "      <td>498.200012</td>\n",
       "      <td>498.200012</td>\n",
       "      <td>4518995.0</td>\n",
       "      <td>498.500000</td>\n",
       "      <td>499.950012</td>\n",
       "      <td>482.500000</td>\n",
       "      <td>492.850006</td>\n",
       "      <td>492.850006</td>\n",
       "      <td>3233932.0</td>\n",
       "      <td>486.500000</td>\n",
       "      <td>515.000000</td>\n",
       "      <td>487.200012</td>\n",
       "      <td>490.100006</td>\n",
       "      <td>490.100006</td>\n",
       "      <td>3429703.0</td>\n",
       "      <td>492.399994</td>\n",
       "      <td>509.000000</td>\n",
       "      <td>492.149994</td>\n",
       "      <td>503.500000</td>\n",
       "      <td>503.500000</td>\n",
       "      <td>3438673.0</td>\n",
       "      <td>515.000000</td>\n",
       "      <td>506.000000</td>\n",
       "      <td>480.000000</td>\n",
       "      <td>502.850006</td>\n",
       "      <td>502.850006</td>\n",
       "      <td>4343214.0</td>\n",
       "      <td>497.750000</td>\n",
       "      <td>492.950012</td>\n",
       "      <td>472.750000</td>\n",
       "      <td>479.799988</td>\n",
       "      <td>479.799988</td>\n",
       "      <td>2769922.0</td>\n",
       "      <td>480.000000</td>\n",
       "      <td>478.250000</td>\n",
       "    </tr>\n",
       "    <tr>\n",
       "      <th>4437</th>\n",
       "      <td>490.649994</td>\n",
       "      <td>475.450012</td>\n",
       "      <td>478.250000</td>\n",
       "      <td>478.250000</td>\n",
       "      <td>2503008.0</td>\n",
       "      <td>485.000</td>\n",
       "      <td>494.399994</td>\n",
       "      <td>482.399994</td>\n",
       "      <td>487.549988</td>\n",
       "      <td>487.549988</td>\n",
       "      <td>2010508.0</td>\n",
       "      <td>490.000</td>\n",
       "      <td>504.649994</td>\n",
       "      <td>487.250000</td>\n",
       "      <td>491.750000</td>\n",
       "      <td>491.750000</td>\n",
       "      <td>4482196.0</td>\n",
       "      <td>494.000</td>\n",
       "      <td>503.750000</td>\n",
       "      <td>494.500000</td>\n",
       "      <td>499.049988</td>\n",
       "      <td>499.049988</td>\n",
       "      <td>2376828.0</td>\n",
       "      <td>502.000000</td>\n",
       "      <td>516.150024</td>\n",
       "      <td>497.049988</td>\n",
       "      <td>499.000000</td>\n",
       "      <td>499.000000</td>\n",
       "      <td>4322555.0</td>\n",
       "      <td>499.000000</td>\n",
       "      <td>504.799988</td>\n",
       "      <td>495.549988</td>\n",
       "      <td>502.700012</td>\n",
       "      <td>502.700012</td>\n",
       "      <td>2801897.0</td>\n",
       "      <td>506.100006</td>\n",
       "      <td>503.000000</td>\n",
       "      <td>484.000000</td>\n",
       "      <td>498.200012</td>\n",
       "      <td>498.200012</td>\n",
       "      <td>4518995.0</td>\n",
       "      <td>498.500000</td>\n",
       "      <td>499.950012</td>\n",
       "      <td>482.500000</td>\n",
       "      <td>492.850006</td>\n",
       "      <td>492.850006</td>\n",
       "      <td>3233932.0</td>\n",
       "      <td>486.500000</td>\n",
       "      <td>515.000000</td>\n",
       "      <td>487.200012</td>\n",
       "      <td>490.100006</td>\n",
       "      <td>490.100006</td>\n",
       "      <td>3429703.0</td>\n",
       "      <td>492.399994</td>\n",
       "      <td>509.000000</td>\n",
       "      <td>492.149994</td>\n",
       "      <td>503.500000</td>\n",
       "      <td>503.500000</td>\n",
       "      <td>3438673.0</td>\n",
       "      <td>515.000000</td>\n",
       "      <td>506.000000</td>\n",
       "      <td>480.000000</td>\n",
       "      <td>502.850006</td>\n",
       "      <td>502.850006</td>\n",
       "      <td>4343214.0</td>\n",
       "      <td>497.750000</td>\n",
       "      <td>489.299988</td>\n",
       "    </tr>\n",
       "    <tr>\n",
       "      <th>4438</th>\n",
       "      <td>495.350006</td>\n",
       "      <td>478.250000</td>\n",
       "      <td>489.299988</td>\n",
       "      <td>489.299988</td>\n",
       "      <td>4295419.0</td>\n",
       "      <td>480.000</td>\n",
       "      <td>490.649994</td>\n",
       "      <td>475.450012</td>\n",
       "      <td>478.250000</td>\n",
       "      <td>478.250000</td>\n",
       "      <td>2503008.0</td>\n",
       "      <td>485.000</td>\n",
       "      <td>494.399994</td>\n",
       "      <td>482.399994</td>\n",
       "      <td>487.549988</td>\n",
       "      <td>487.549988</td>\n",
       "      <td>2010508.0</td>\n",
       "      <td>490.000</td>\n",
       "      <td>504.649994</td>\n",
       "      <td>487.250000</td>\n",
       "      <td>491.750000</td>\n",
       "      <td>491.750000</td>\n",
       "      <td>4482196.0</td>\n",
       "      <td>494.000000</td>\n",
       "      <td>503.750000</td>\n",
       "      <td>494.500000</td>\n",
       "      <td>499.049988</td>\n",
       "      <td>499.049988</td>\n",
       "      <td>2376828.0</td>\n",
       "      <td>502.000000</td>\n",
       "      <td>516.150024</td>\n",
       "      <td>497.049988</td>\n",
       "      <td>499.000000</td>\n",
       "      <td>499.000000</td>\n",
       "      <td>4322555.0</td>\n",
       "      <td>499.000000</td>\n",
       "      <td>504.799988</td>\n",
       "      <td>495.549988</td>\n",
       "      <td>502.700012</td>\n",
       "      <td>502.700012</td>\n",
       "      <td>2801897.0</td>\n",
       "      <td>506.100006</td>\n",
       "      <td>503.000000</td>\n",
       "      <td>484.000000</td>\n",
       "      <td>498.200012</td>\n",
       "      <td>498.200012</td>\n",
       "      <td>4518995.0</td>\n",
       "      <td>498.500000</td>\n",
       "      <td>499.950012</td>\n",
       "      <td>482.500000</td>\n",
       "      <td>492.850006</td>\n",
       "      <td>492.850006</td>\n",
       "      <td>3233932.0</td>\n",
       "      <td>486.500000</td>\n",
       "      <td>515.000000</td>\n",
       "      <td>487.200012</td>\n",
       "      <td>490.100006</td>\n",
       "      <td>490.100006</td>\n",
       "      <td>3429703.0</td>\n",
       "      <td>492.399994</td>\n",
       "      <td>509.000000</td>\n",
       "      <td>492.149994</td>\n",
       "      <td>503.500000</td>\n",
       "      <td>503.500000</td>\n",
       "      <td>3438673.0</td>\n",
       "      <td>515.000000</td>\n",
       "      <td>468.750000</td>\n",
       "    </tr>\n",
       "    <tr>\n",
       "      <th>4439</th>\n",
       "      <td>482.799988</td>\n",
       "      <td>465.700012</td>\n",
       "      <td>468.750000</td>\n",
       "      <td>468.750000</td>\n",
       "      <td>3267221.0</td>\n",
       "      <td>471.000</td>\n",
       "      <td>495.350006</td>\n",
       "      <td>478.250000</td>\n",
       "      <td>489.299988</td>\n",
       "      <td>489.299988</td>\n",
       "      <td>4295419.0</td>\n",
       "      <td>480.000</td>\n",
       "      <td>490.649994</td>\n",
       "      <td>475.450012</td>\n",
       "      <td>478.250000</td>\n",
       "      <td>478.250000</td>\n",
       "      <td>2503008.0</td>\n",
       "      <td>485.000</td>\n",
       "      <td>494.399994</td>\n",
       "      <td>482.399994</td>\n",
       "      <td>487.549988</td>\n",
       "      <td>487.549988</td>\n",
       "      <td>2010508.0</td>\n",
       "      <td>490.000000</td>\n",
       "      <td>504.649994</td>\n",
       "      <td>487.250000</td>\n",
       "      <td>491.750000</td>\n",
       "      <td>491.750000</td>\n",
       "      <td>4482196.0</td>\n",
       "      <td>494.000000</td>\n",
       "      <td>503.750000</td>\n",
       "      <td>494.500000</td>\n",
       "      <td>499.049988</td>\n",
       "      <td>499.049988</td>\n",
       "      <td>2376828.0</td>\n",
       "      <td>502.000000</td>\n",
       "      <td>516.150024</td>\n",
       "      <td>497.049988</td>\n",
       "      <td>499.000000</td>\n",
       "      <td>499.000000</td>\n",
       "      <td>4322555.0</td>\n",
       "      <td>499.000000</td>\n",
       "      <td>504.799988</td>\n",
       "      <td>495.549988</td>\n",
       "      <td>502.700012</td>\n",
       "      <td>502.700012</td>\n",
       "      <td>2801897.0</td>\n",
       "      <td>506.100006</td>\n",
       "      <td>503.000000</td>\n",
       "      <td>484.000000</td>\n",
       "      <td>498.200012</td>\n",
       "      <td>498.200012</td>\n",
       "      <td>4518995.0</td>\n",
       "      <td>498.500000</td>\n",
       "      <td>499.950012</td>\n",
       "      <td>482.500000</td>\n",
       "      <td>492.850006</td>\n",
       "      <td>492.850006</td>\n",
       "      <td>3233932.0</td>\n",
       "      <td>486.500000</td>\n",
       "      <td>515.000000</td>\n",
       "      <td>487.200012</td>\n",
       "      <td>490.100006</td>\n",
       "      <td>490.100006</td>\n",
       "      <td>3429703.0</td>\n",
       "      <td>492.399994</td>\n",
       "      <td>452.500000</td>\n",
       "    </tr>\n",
       "  </tbody>\n",
       "</table>\n",
       "<p>4387 rows × 67 columns</p>\n",
       "</div>"
      ],
      "text/plain": [
       "            High         Low       Close  ...       AC10         V10      result\n",
       "10      8.815000    8.600000    8.625000  ...  2331240.0    8.575000    8.560000\n",
       "11      8.665000    8.535000    8.560000  ...   925272.0    8.585000    8.410000\n",
       "12      8.575000    8.385000    8.410000  ...  1304064.0    8.660000    8.490000\n",
       "13      8.540000    8.415000    8.490000  ...  1589202.0    8.635000    8.465000\n",
       "14      8.565000    8.415000    8.465000  ...  3139716.0    9.250000    8.090000\n",
       "...          ...         ...         ...  ...        ...         ...         ...\n",
       "4435  504.649994  487.250000  491.750000  ...  5377864.0  485.899994  487.549988\n",
       "4436  494.399994  482.399994  487.549988  ...  2769922.0  480.000000  478.250000\n",
       "4437  490.649994  475.450012  478.250000  ...  4343214.0  497.750000  489.299988\n",
       "4438  495.350006  478.250000  489.299988  ...  3438673.0  515.000000  468.750000\n",
       "4439  482.799988  465.700012  468.750000  ...  3429703.0  492.399994  452.500000\n",
       "\n",
       "[4387 rows x 67 columns]"
      ]
     },
     "execution_count": 6,
     "metadata": {
      "tags": []
     },
     "output_type": "execute_result"
    }
   ],
   "source": [
    "temp['O1'], temp['H1'], temp['L1'],temp['C1'], temp['AC1'], temp['V1'],temp['O2'], temp['H2'], temp['L2'],temp['C2'], temp['AC2'], temp['V2'],temp['O3'], temp['H3'], temp['L3'],temp['C3'], temp['AC3'], temp['V3'] = [a1[:,0],a1[:,1],a1[:,2],a1[:,3],a1[:,4],a1[:,5], a2[:,0],a2[:,1],a2[:,2],a2[:,3],a2[:,4],a2[:,5], a3[:,0],a3[:,1],a3[:,2],a3[:,3],a3[:,4],a3[:,5]]\n",
    "temp['O4'], temp['H4'], temp['L4'],temp['C4'], temp['AC4'], temp['V4'],temp['O5'], temp['H5'], temp['L5'],temp['C5'], temp['AC5'], temp['V5'],temp['O6'], temp['H6'], temp['L6'],temp['C6'], temp['AC6'], temp['V6'] = [a4[:,0],a4[:,1],a4[:,2],a4[:,3],a4[:,4],a4[:,5], a5[:,0],a5[:,1],a5[:,2],a5[:,3],a5[:,4],a5[:,5], a6[:,0],a6[:,1],a6[:,2],a6[:,3],a6[:,4],a6[:,5]]\n",
    "temp['O7'], temp['H7'], temp['L7'],temp['C7'], temp['AC7'], temp['V7'],temp['O8'], temp['H8'], temp['L8'],temp['C8'], temp['AC8'], temp['V8'],temp['O9'], temp['H9'], temp['L9'],temp['C9'], temp['AC9'], temp['V9'] = [a7[:,0],a7[:,1],a7[:,2],a7[:,3],a7[:,4],a7[:,5], a8[:,0],a8[:,1],a8[:,2],a8[:,3],a8[:,4],a8[:,5], a9[:,0],a9[:,1],a9[:,2],a9[:,3],a9[:,4],a9[:,5]]\n",
    "temp['O10'], temp['H10'], temp['L10'],temp['C10'], temp['AC10'], temp['V10'], temp['result']=[a10[:,0],a10[:,1],a10[:,2],a10[:,3],a10[:,4],a10[:,5],res]\n",
    "temp"
   ]
  },
  {
   "cell_type": "code",
   "execution_count": 0,
   "metadata": {
    "colab": {},
    "colab_type": "code",
    "id": "jTwuUVeVgZ7o"
   },
   "outputs": [],
   "source": [
    "train_dataset = temp.sample(frac=0.9,random_state=0)\n",
    "test_dataset = temp.drop(train_dataset.index)"
   ]
  },
  {
   "cell_type": "code",
   "execution_count": 8,
   "metadata": {
    "colab": {
     "base_uri": "https://localhost:8080/",
     "height": 402
    },
    "colab_type": "code",
    "executionInfo": {
     "elapsed": 1114,
     "status": "ok",
     "timestamp": 1588730067353,
     "user": {
      "displayName": "S Tarun Prasad me17b114",
      "photoUrl": "",
      "userId": "15019596406314623392"
     },
     "user_tz": -330
    },
    "id": "eYO2NfJ3Auf0",
    "outputId": "a185cc12-41ac-4a9d-b697-5c951f1c6683"
   },
   "outputs": [
    {
     "data": {
      "text/html": [
       "<div>\n",
       "<style scoped>\n",
       "    .dataframe tbody tr th:only-of-type {\n",
       "        vertical-align: middle;\n",
       "    }\n",
       "\n",
       "    .dataframe tbody tr th {\n",
       "        vertical-align: top;\n",
       "    }\n",
       "\n",
       "    .dataframe thead th {\n",
       "        text-align: right;\n",
       "    }\n",
       "</style>\n",
       "<table border=\"1\" class=\"dataframe\">\n",
       "  <thead>\n",
       "    <tr style=\"text-align: right;\">\n",
       "      <th></th>\n",
       "      <th>count</th>\n",
       "      <th>mean</th>\n",
       "      <th>std</th>\n",
       "      <th>min</th>\n",
       "      <th>25%</th>\n",
       "      <th>50%</th>\n",
       "      <th>75%</th>\n",
       "      <th>max</th>\n",
       "    </tr>\n",
       "  </thead>\n",
       "  <tbody>\n",
       "    <tr>\n",
       "      <th>High</th>\n",
       "      <td>3948.0</td>\n",
       "      <td>1.557348e+02</td>\n",
       "      <td>1.403177e+02</td>\n",
       "      <td>6.165000</td>\n",
       "      <td>45.912499</td>\n",
       "      <td>1.034750e+02</td>\n",
       "      <td>2.744625e+02</td>\n",
       "      <td>5.250000e+02</td>\n",
       "    </tr>\n",
       "    <tr>\n",
       "      <th>Low</th>\n",
       "      <td>3948.0</td>\n",
       "      <td>1.515578e+02</td>\n",
       "      <td>1.369633e+02</td>\n",
       "      <td>5.710000</td>\n",
       "      <td>44.011249</td>\n",
       "      <td>1.002750e+02</td>\n",
       "      <td>2.680250e+02</td>\n",
       "      <td>5.145500e+02</td>\n",
       "    </tr>\n",
       "    <tr>\n",
       "      <th>Close</th>\n",
       "      <td>3948.0</td>\n",
       "      <td>1.535652e+02</td>\n",
       "      <td>1.385688e+02</td>\n",
       "      <td>5.940000</td>\n",
       "      <td>45.018752</td>\n",
       "      <td>1.018250e+02</td>\n",
       "      <td>2.708875e+02</td>\n",
       "      <td>5.199000e+02</td>\n",
       "    </tr>\n",
       "    <tr>\n",
       "      <th>Adj Close</th>\n",
       "      <td>3948.0</td>\n",
       "      <td>1.465038e+02</td>\n",
       "      <td>1.389052e+02</td>\n",
       "      <td>2.914028</td>\n",
       "      <td>37.701292</td>\n",
       "      <td>9.351963e+01</td>\n",
       "      <td>2.616679e+02</td>\n",
       "      <td>5.199000e+02</td>\n",
       "    </tr>\n",
       "    <tr>\n",
       "      <th>Volume</th>\n",
       "      <td>3948.0</td>\n",
       "      <td>1.812408e+06</td>\n",
       "      <td>1.873639e+06</td>\n",
       "      <td>0.000000</td>\n",
       "      <td>783760.750000</td>\n",
       "      <td>1.270725e+06</td>\n",
       "      <td>2.211536e+06</td>\n",
       "      <td>3.602862e+07</td>\n",
       "    </tr>\n",
       "    <tr>\n",
       "      <th>...</th>\n",
       "      <td>...</td>\n",
       "      <td>...</td>\n",
       "      <td>...</td>\n",
       "      <td>...</td>\n",
       "      <td>...</td>\n",
       "      <td>...</td>\n",
       "      <td>...</td>\n",
       "      <td>...</td>\n",
       "    </tr>\n",
       "    <tr>\n",
       "      <th>H10</th>\n",
       "      <td>3948.0</td>\n",
       "      <td>1.504835e+02</td>\n",
       "      <td>1.361688e+02</td>\n",
       "      <td>5.710000</td>\n",
       "      <td>43.726251</td>\n",
       "      <td>1.000375e+02</td>\n",
       "      <td>2.673375e+02</td>\n",
       "      <td>5.145500e+02</td>\n",
       "    </tr>\n",
       "    <tr>\n",
       "      <th>L10</th>\n",
       "      <td>3948.0</td>\n",
       "      <td>1.524897e+02</td>\n",
       "      <td>1.377908e+02</td>\n",
       "      <td>5.940000</td>\n",
       "      <td>44.806251</td>\n",
       "      <td>1.014500e+02</td>\n",
       "      <td>2.706625e+02</td>\n",
       "      <td>5.199000e+02</td>\n",
       "    </tr>\n",
       "    <tr>\n",
       "      <th>C10</th>\n",
       "      <td>3948.0</td>\n",
       "      <td>1.454143e+02</td>\n",
       "      <td>1.380811e+02</td>\n",
       "      <td>2.914028</td>\n",
       "      <td>37.536909</td>\n",
       "      <td>9.311501e+01</td>\n",
       "      <td>2.610985e+02</td>\n",
       "      <td>5.199000e+02</td>\n",
       "    </tr>\n",
       "    <tr>\n",
       "      <th>AC10</th>\n",
       "      <td>3948.0</td>\n",
       "      <td>1.814576e+06</td>\n",
       "      <td>1.895969e+06</td>\n",
       "      <td>0.000000</td>\n",
       "      <td>791217.000000</td>\n",
       "      <td>1.284386e+06</td>\n",
       "      <td>2.212890e+06</td>\n",
       "      <td>3.602862e+07</td>\n",
       "    </tr>\n",
       "    <tr>\n",
       "      <th>V10</th>\n",
       "      <td>3948.0</td>\n",
       "      <td>1.527248e+02</td>\n",
       "      <td>1.379387e+02</td>\n",
       "      <td>5.975000</td>\n",
       "      <td>44.868749</td>\n",
       "      <td>1.015000e+02</td>\n",
       "      <td>2.711875e+02</td>\n",
       "      <td>5.188000e+02</td>\n",
       "    </tr>\n",
       "  </tbody>\n",
       "</table>\n",
       "<p>66 rows × 8 columns</p>\n",
       "</div>"
      ],
      "text/plain": [
       "            count          mean  ...           75%           max\n",
       "High       3948.0  1.557348e+02  ...  2.744625e+02  5.250000e+02\n",
       "Low        3948.0  1.515578e+02  ...  2.680250e+02  5.145500e+02\n",
       "Close      3948.0  1.535652e+02  ...  2.708875e+02  5.199000e+02\n",
       "Adj Close  3948.0  1.465038e+02  ...  2.616679e+02  5.199000e+02\n",
       "Volume     3948.0  1.812408e+06  ...  2.211536e+06  3.602862e+07\n",
       "...           ...           ...  ...           ...           ...\n",
       "H10        3948.0  1.504835e+02  ...  2.673375e+02  5.145500e+02\n",
       "L10        3948.0  1.524897e+02  ...  2.706625e+02  5.199000e+02\n",
       "C10        3948.0  1.454143e+02  ...  2.610985e+02  5.199000e+02\n",
       "AC10       3948.0  1.814576e+06  ...  2.212890e+06  3.602862e+07\n",
       "V10        3948.0  1.527248e+02  ...  2.711875e+02  5.188000e+02\n",
       "\n",
       "[66 rows x 8 columns]"
      ]
     },
     "execution_count": 8,
     "metadata": {
      "tags": []
     },
     "output_type": "execute_result"
    }
   ],
   "source": [
    "train_stats = train_dataset.describe()\n",
    "train_stats.pop(\"result\")\n",
    "train_stats=train_stats.transpose()\n",
    "train_stats"
   ]
  },
  {
   "cell_type": "code",
   "execution_count": 0,
   "metadata": {
    "colab": {},
    "colab_type": "code",
    "id": "-VtcyCRBjAx1"
   },
   "outputs": [],
   "source": [
    "train_labels = train_dataset.pop('result')\n",
    "test_labels = test_dataset.pop('result')"
   ]
  },
  {
   "cell_type": "code",
   "execution_count": 0,
   "metadata": {
    "colab": {},
    "colab_type": "code",
    "id": "pTGiPEMwBVJD"
   },
   "outputs": [],
   "source": [
    "def norm(x):\n",
    "  return (x - train_stats['mean']) / train_stats['std']\n",
    "normed_train_data = norm(train_dataset)\n",
    "normed_test_data = norm(test_dataset)"
   ]
  },
  {
   "cell_type": "code",
   "execution_count": 0,
   "metadata": {
    "colab": {},
    "colab_type": "code",
    "id": "DIDNPeZlBgXQ"
   },
   "outputs": [],
   "source": [
    "def build_model():\n",
    "  model = keras.Sequential([\n",
    "    layers.Dense(150, activation='relu', input_shape=[len(train_dataset.keys())]),\n",
    "    layers.Dense(150, activation='relu'),\n",
    "    layers.Dense(1)\n",
    "  ])\n",
    "\n",
    "  optimizer = tf.keras.optimizers.RMSprop(0.001)\n",
    "\n",
    "  model.compile(loss='mse',\n",
    "                optimizer=optimizer,\n",
    "                metrics=['mae', 'mse'])\n",
    "  return model"
   ]
  },
  {
   "cell_type": "code",
   "execution_count": 12,
   "metadata": {
    "colab": {
     "base_uri": "https://localhost:8080/",
     "height": 252
    },
    "colab_type": "code",
    "executionInfo": {
     "elapsed": 1180,
     "status": "ok",
     "timestamp": 1588730087012,
     "user": {
      "displayName": "S Tarun Prasad me17b114",
      "photoUrl": "",
      "userId": "15019596406314623392"
     },
     "user_tz": -330
    },
    "id": "XboB99cxCgQn",
    "outputId": "1258b44a-e06b-471f-c577-6fa16e68e907"
   },
   "outputs": [
    {
     "name": "stdout",
     "output_type": "stream",
     "text": [
      "Model: \"sequential\"\n",
      "_________________________________________________________________\n",
      "Layer (type)                 Output Shape              Param #   \n",
      "=================================================================\n",
      "dense (Dense)                (None, 150)               10050     \n",
      "_________________________________________________________________\n",
      "dense_1 (Dense)              (None, 150)               22650     \n",
      "_________________________________________________________________\n",
      "dense_2 (Dense)              (None, 1)                 151       \n",
      "=================================================================\n",
      "Total params: 32,851\n",
      "Trainable params: 32,851\n",
      "Non-trainable params: 0\n",
      "_________________________________________________________________\n"
     ]
    }
   ],
   "source": [
    "model = build_model()\n",
    "model.summary()"
   ]
  },
  {
   "cell_type": "code",
   "execution_count": 13,
   "metadata": {
    "colab": {
     "base_uri": "https://localhost:8080/",
     "height": 185
    },
    "colab_type": "code",
    "executionInfo": {
     "elapsed": 1150,
     "status": "ok",
     "timestamp": 1588730094119,
     "user": {
      "displayName": "S Tarun Prasad me17b114",
      "photoUrl": "",
      "userId": "15019596406314623392"
     },
     "user_tz": -330
    },
    "id": "hvRRJM8VCnNA",
    "outputId": "3402f4ff-6f8f-445e-dfe5-1022ce28c9f5"
   },
   "outputs": [
    {
     "data": {
      "text/plain": [
       "array([[0.63483274],\n",
       "       [0.4617767 ],\n",
       "       [0.58015364],\n",
       "       [0.96015966],\n",
       "       [0.242928  ],\n",
       "       [0.26441994],\n",
       "       [0.46844837],\n",
       "       [0.4813262 ],\n",
       "       [0.17575742],\n",
       "       [0.46290183]], dtype=float32)"
      ]
     },
     "execution_count": 13,
     "metadata": {
      "tags": []
     },
     "output_type": "execute_result"
    }
   ],
   "source": [
    "example_batch = normed_train_data[:10]\n",
    "example_result = model.predict(example_batch)\n",
    "example_result"
   ]
  },
  {
   "cell_type": "code",
   "execution_count": 14,
   "metadata": {
    "colab": {
     "base_uri": "https://localhost:8080/",
     "height": 370
    },
    "colab_type": "code",
    "executionInfo": {
     "elapsed": 163799,
     "status": "ok",
     "timestamp": 1588730261401,
     "user": {
      "displayName": "S Tarun Prasad me17b114",
      "photoUrl": "",
      "userId": "15019596406314623392"
     },
     "user_tz": -330
    },
    "id": "iRfCKltTC8yH",
    "outputId": "b94f755d-fbcc-4bf9-e5c1-2124797414d7"
   },
   "outputs": [
    {
     "name": "stdout",
     "output_type": "stream",
     "text": [
      "\n",
      "Epoch: 0, loss:12387.9658,  mae:78.1764,  mse:12387.9658,  val_loss:3299.3586,  val_mae:46.7397,  val_mse:3299.3586,  \n",
      "....................................................................................................\n",
      "Epoch: 100, loss:36.2265,  mae:3.7358,  mse:36.2265,  val_loss:114.8994,  val_mae:7.6633,  val_mse:114.8994,  \n",
      "....................................................................................................\n",
      "Epoch: 200, loss:29.4801,  mae:3.2398,  mse:29.4801,  val_loss:23.3192,  val_mae:3.0405,  val_mse:23.3192,  \n",
      "....................................................................................................\n",
      "Epoch: 300, loss:23.4203,  mae:3.0292,  mse:23.4203,  val_loss:14.1483,  val_mae:2.4683,  val_mse:14.1483,  \n",
      "....................................................................................................\n",
      "Epoch: 400, loss:20.4377,  mae:2.7792,  mse:20.4377,  val_loss:23.3336,  val_mae:3.0363,  val_mse:23.3336,  \n",
      "....................................................................................................\n",
      "Epoch: 500, loss:16.6479,  mae:2.5670,  mse:16.6479,  val_loss:29.7367,  val_mae:3.3887,  val_mse:29.7367,  \n",
      "....................................................................................................\n",
      "Epoch: 600, loss:16.5743,  mae:2.4719,  mse:16.5743,  val_loss:27.9501,  val_mae:3.6161,  val_mse:27.9501,  \n",
      "....................................................................................................\n",
      "Epoch: 700, loss:15.4058,  mae:2.3802,  mse:15.4058,  val_loss:17.4299,  val_mae:2.6900,  val_mse:17.4299,  \n",
      "....................................................................................................\n",
      "Epoch: 800, loss:14.4818,  mae:2.2966,  mse:14.4818,  val_loss:16.3463,  val_mae:2.6573,  val_mse:16.3463,  \n",
      "....................................................................................................\n",
      "Epoch: 900, loss:13.6619,  mae:2.3177,  mse:13.6619,  val_loss:15.3413,  val_mae:2.5339,  val_mse:15.3413,  \n",
      "...................................................................................................."
     ]
    }
   ],
   "source": [
    "EPOCHS = 1000\n",
    "\n",
    "history = model.fit(\n",
    "  normed_train_data, train_labels,\n",
    "  epochs=EPOCHS, validation_split = 0.2, verbose=0,\n",
    "  callbacks=[tfdocs.modeling.EpochDots()])"
   ]
  },
  {
   "cell_type": "code",
   "execution_count": 15,
   "metadata": {
    "colab": {
     "base_uri": "https://localhost:8080/",
     "height": 195
    },
    "colab_type": "code",
    "executionInfo": {
     "elapsed": 1263,
     "status": "ok",
     "timestamp": 1588730277297,
     "user": {
      "displayName": "S Tarun Prasad me17b114",
      "photoUrl": "",
      "userId": "15019596406314623392"
     },
     "user_tz": -330
    },
    "id": "vxg2fJfPEcAp",
    "outputId": "02f979b8-9d83-4ed2-d8c9-31e7e183f7e6"
   },
   "outputs": [
    {
     "data": {
      "text/html": [
       "<div>\n",
       "<style scoped>\n",
       "    .dataframe tbody tr th:only-of-type {\n",
       "        vertical-align: middle;\n",
       "    }\n",
       "\n",
       "    .dataframe tbody tr th {\n",
       "        vertical-align: top;\n",
       "    }\n",
       "\n",
       "    .dataframe thead th {\n",
       "        text-align: right;\n",
       "    }\n",
       "</style>\n",
       "<table border=\"1\" class=\"dataframe\">\n",
       "  <thead>\n",
       "    <tr style=\"text-align: right;\">\n",
       "      <th></th>\n",
       "      <th>loss</th>\n",
       "      <th>mae</th>\n",
       "      <th>mse</th>\n",
       "      <th>val_loss</th>\n",
       "      <th>val_mae</th>\n",
       "      <th>val_mse</th>\n",
       "      <th>epoch</th>\n",
       "    </tr>\n",
       "  </thead>\n",
       "  <tbody>\n",
       "    <tr>\n",
       "      <th>995</th>\n",
       "      <td>12.261494</td>\n",
       "      <td>2.113777</td>\n",
       "      <td>12.261494</td>\n",
       "      <td>20.970091</td>\n",
       "      <td>2.885589</td>\n",
       "      <td>20.970091</td>\n",
       "      <td>995</td>\n",
       "    </tr>\n",
       "    <tr>\n",
       "      <th>996</th>\n",
       "      <td>11.654897</td>\n",
       "      <td>2.114147</td>\n",
       "      <td>11.654897</td>\n",
       "      <td>30.208277</td>\n",
       "      <td>3.824238</td>\n",
       "      <td>30.208277</td>\n",
       "      <td>996</td>\n",
       "    </tr>\n",
       "    <tr>\n",
       "      <th>997</th>\n",
       "      <td>12.807598</td>\n",
       "      <td>2.167021</td>\n",
       "      <td>12.807598</td>\n",
       "      <td>35.791203</td>\n",
       "      <td>3.778905</td>\n",
       "      <td>35.791203</td>\n",
       "      <td>997</td>\n",
       "    </tr>\n",
       "    <tr>\n",
       "      <th>998</th>\n",
       "      <td>12.665850</td>\n",
       "      <td>2.157490</td>\n",
       "      <td>12.665850</td>\n",
       "      <td>20.977654</td>\n",
       "      <td>2.885466</td>\n",
       "      <td>20.977654</td>\n",
       "      <td>998</td>\n",
       "    </tr>\n",
       "    <tr>\n",
       "      <th>999</th>\n",
       "      <td>11.991549</td>\n",
       "      <td>2.139276</td>\n",
       "      <td>11.991549</td>\n",
       "      <td>20.996019</td>\n",
       "      <td>2.835817</td>\n",
       "      <td>20.996019</td>\n",
       "      <td>999</td>\n",
       "    </tr>\n",
       "  </tbody>\n",
       "</table>\n",
       "</div>"
      ],
      "text/plain": [
       "          loss       mae        mse   val_loss   val_mae    val_mse  epoch\n",
       "995  12.261494  2.113777  12.261494  20.970091  2.885589  20.970091    995\n",
       "996  11.654897  2.114147  11.654897  30.208277  3.824238  30.208277    996\n",
       "997  12.807598  2.167021  12.807598  35.791203  3.778905  35.791203    997\n",
       "998  12.665850  2.157490  12.665850  20.977654  2.885466  20.977654    998\n",
       "999  11.991549  2.139276  11.991549  20.996019  2.835817  20.996019    999"
      ]
     },
     "execution_count": 15,
     "metadata": {
      "tags": []
     },
     "output_type": "execute_result"
    }
   ],
   "source": [
    "hist = pd.DataFrame(history.history)\n",
    "hist['epoch'] = history.epoch\n",
    "hist.tail()"
   ]
  },
  {
   "cell_type": "code",
   "execution_count": 17,
   "metadata": {
    "colab": {
     "base_uri": "https://localhost:8080/",
     "height": 300
    },
    "colab_type": "code",
    "executionInfo": {
     "elapsed": 1160,
     "status": "ok",
     "timestamp": 1588730362278,
     "user": {
      "displayName": "S Tarun Prasad me17b114",
      "photoUrl": "",
      "userId": "15019596406314623392"
     },
     "user_tz": -330
    },
    "id": "drW0VQrVEllV",
    "outputId": "e1c1222d-698f-45df-c276-3a1aa484acb4"
   },
   "outputs": [
    {
     "data": {
      "text/plain": [
       "Text(0, 0.5, 'Loss [Close]')"
      ]
     },
     "execution_count": 17,
     "metadata": {
      "tags": []
     },
     "output_type": "execute_result"
    },
    {
     "data": {
      "image/png": "[encoded data removed]",
      "text/plain": [
       "<Figure size 432x288 with 1 Axes>"
      ]
     },
     "metadata": {
      "needs_background": "light",
      "tags": []
     },
     "output_type": "display_data"
    }
   ],
   "source": [
    "plotter = tfdocs.plots.HistoryPlotter(smoothing_std=2)\n",
    "plotter.plot({'Basic': history}, metric = \"loss\")\n",
    "plt.ylim([0, 200])\n",
    "plt.ylabel('Loss [Close]')"
   ]
  },
  {
   "cell_type": "code",
   "execution_count": 18,
   "metadata": {
    "colab": {
     "base_uri": "https://localhost:8080/",
     "height": 300
    },
    "colab_type": "code",
    "executionInfo": {
     "elapsed": 1204,
     "status": "ok",
     "timestamp": 1588730368815,
     "user": {
      "displayName": "S Tarun Prasad me17b114",
      "photoUrl": "",
      "userId": "15019596406314623392"
     },
     "user_tz": -330
    },
    "id": "POJvQOq2FDtW",
    "outputId": "6f7bfbfe-4fd6-4813-8310-e99816fef808"
   },
   "outputs": [
    {
     "data": {
      "text/plain": [
       "Text(0, 0.5, 'MSE [Close^2]')"
      ]
     },
     "execution_count": 18,
     "metadata": {
      "tags": []
     },
     "output_type": "execute_result"
    },
    {
     "data": {
      "image/png": "[encoded data removed]",
      "text/plain": [
       "<Figure size 432x288 with 1 Axes>"
      ]
     },
     "metadata": {
      "needs_background": "light",
      "tags": []
     },
     "output_type": "display_data"
    }
   ],
   "source": [
    "plotter.plot({'Basic': history}, metric = \"mse\")\n",
    "plt.ylim([0, 200])\n",
    "plt.ylabel('MSE [Close^2]')"
   ]
  },
  {
   "cell_type": "code",
   "execution_count": 19,
   "metadata": {
    "colab": {
     "base_uri": "https://localhost:8080/",
     "height": 283
    },
    "colab_type": "code",
    "executionInfo": {
     "elapsed": 1122,
     "status": "ok",
     "timestamp": 1588730433826,
     "user": {
      "displayName": "S Tarun Prasad me17b114",
      "photoUrl": "",
      "userId": "15019596406314623392"
     },
     "user_tz": -330
    },
    "id": "va_KBFiQFaIB",
    "outputId": "09b63465-60c5-4af3-d37e-1445b9f7831c"
   },
   "outputs": [
    {
     "data": {
      "image/png": "[encoded data removed]",
      "text/plain": [
       "<Figure size 432x288 with 1 Axes>"
      ]
     },
     "metadata": {
      "needs_background": "light",
      "tags": []
     },
     "output_type": "display_data"
    }
   ],
   "source": [
    "test_dataset['Pred'] = model.predict(normed_test_data).flatten()\n",
    "test_dataset['labels']=test_labels\n",
    "\n",
    "a = plt.axes(aspect='equal')\n",
    "plt.scatter(test_dataset['labels'], test_dataset['Pred'])\n",
    "plt.xlabel('Labels (Close)')\n",
    "plt.ylabel('Predictions (Close)')\n",
    "lims = [0, 600]\n",
    "plt.xlim(lims)\n",
    "plt.ylim(lims)\n",
    "_ = plt.plot(lims, lims)"
   ]
  },
  {
   "cell_type": "code",
   "execution_count": 20,
   "metadata": {
    "colab": {
     "base_uri": "https://localhost:8080/",
     "height": 282
    },
    "colab_type": "code",
    "executionInfo": {
     "elapsed": 1351,
     "status": "ok",
     "timestamp": 1588730458056,
     "user": {
      "displayName": "S Tarun Prasad me17b114",
      "photoUrl": "",
      "userId": "15019596406314623392"
     },
     "user_tz": -330
    },
    "id": "UcPC1R8KFhbv",
    "outputId": "3d71f71a-f564-4251-fe66-d7f15e9d7746"
   },
   "outputs": [
    {
     "data": {
      "text/plain": [
       "<matplotlib.collections.PathCollection at 0x7fd8c3bfe6a0>"
      ]
     },
     "execution_count": 20,
     "metadata": {
      "tags": []
     },
     "output_type": "execute_result"
    },
    {
     "data": {
      "image/png": "[encoded data removed]",
      "text/plain": [
       "<Figure size 432x288 with 1 Axes>"
      ]
     },
     "metadata": {
      "needs_background": "light",
      "tags": []
     },
     "output_type": "display_data"
    }
   ],
   "source": [
    "plt.scatter(test_dataset.index,test_dataset.Pred, color=\"blue\")\n",
    "plt.scatter(test_dataset.index,test_dataset.labels, color=\"red\")\n",
    "plt.scatter(test_dataset.index,test_dataset.ON, color=\"green\")\n",
    "#new=test_dataset.index+1\n",
    "#lims = [500, 550]\n",
    "#plt.ylim(lims)"
   ]
  },
  {
   "cell_type": "code",
   "execution_count": 0,
   "metadata": {
    "colab": {},
    "colab_type": "code",
    "id": "HjeB5Eo9u7QI"
   },
   "outputs": [],
   "source": [
    "test_dataset['Height'] = abs(test_dataset['labels']-test_dataset['ON'])"
   ]
  },
  {
   "cell_type": "code",
   "execution_count": 25,
   "metadata": {
    "colab": {
     "base_uri": "https://localhost:8080/",
     "height": 34
    },
    "colab_type": "code",
    "executionInfo": {
     "elapsed": 1471,
     "status": "ok",
     "timestamp": 1588731077697,
     "user": {
      "displayName": "S Tarun Prasad me17b114",
      "photoUrl": "",
      "userId": "15019596406314623392"
     },
     "user_tz": -330
    },
    "id": "-FvyNpgYNLp-",
    "outputId": "d2228a84-0940-4354-aa19-ce9e4b830b4c"
   },
   "outputs": [
    {
     "data": {
      "text/plain": [
       "38"
      ]
     },
     "execution_count": 25,
     "metadata": {
      "tags": []
     },
     "output_type": "execute_result"
    }
   ],
   "source": [
    "test_dataset['Long'] = np.where(((test_dataset['labels']>=test_dataset['ON']) & ((test_dataset['Pred']>= test_dataset['ON']-(0.3*test_dataset['Height']))&(test_dataset['Pred']<= test_dataset['ON']+(0.6*test_dataset['Height'])))) \n",
    "                     , 1, np.nan)\n",
    "test_dataset[test_dataset.Long==1].shape[0]"
   ]
  },
  {
   "cell_type": "code",
   "execution_count": 27,
   "metadata": {
    "colab": {
     "base_uri": "https://localhost:8080/",
     "height": 34
    },
    "colab_type": "code",
    "executionInfo": {
     "elapsed": 1187,
     "status": "ok",
     "timestamp": 1588731349741,
     "user": {
      "displayName": "S Tarun Prasad me17b114",
      "photoUrl": "",
      "userId": "15019596406314623392"
     },
     "user_tz": -330
    },
    "id": "gah_WrPZd-cQ",
    "outputId": "f2c93a8b-a2c6-468d-e540-ee70e1fba071"
   },
   "outputs": [
    {
     "data": {
      "text/plain": [
       "48"
      ]
     },
     "execution_count": 27,
     "metadata": {
      "tags": []
     },
     "output_type": "execute_result"
    }
   ],
   "source": [
    "test_dataset['Short'] = np.where(((test_dataset['labels']<=test_dataset['Pred']) & ((test_dataset['Pred']>= test_dataset['ON']-(0.6*test_dataset['Height']))&(test_dataset['Pred']<= test_dataset['ON']+(0.3*test_dataset['Height'])))) \n",
    "                     , 1, np.nan)\n",
    "test_dataset[test_dataset.Short==1].shape[0]"
   ]
  },
  {
   "cell_type": "code",
   "execution_count": 28,
   "metadata": {
    "colab": {
     "base_uri": "https://localhost:8080/",
     "height": 34
    },
    "colab_type": "code",
    "executionInfo": {
     "elapsed": 1108,
     "status": "ok",
     "timestamp": 1588731354470,
     "user": {
      "displayName": "S Tarun Prasad me17b114",
      "photoUrl": "",
      "userId": "15019596406314623392"
     },
     "user_tz": -330
    },
    "id": "xijNDTWTeL9H",
    "outputId": "7f7b83ec-68c7-4634-d1d2-dcab0414e17d"
   },
   "outputs": [
    {
     "data": {
      "text/plain": [
       "0.1958997722095672"
      ]
     },
     "execution_count": 28,
     "metadata": {
      "tags": []
     },
     "output_type": "execute_result"
    }
   ],
   "source": [
    "Accuracy=(test_dataset[test_dataset.Short==1].shape[0]+test_dataset[test_dataset.Long==1].shape[0])/len(test_dataset)\n",
    "Accuracy"
   ]
  },
  {
   "cell_type": "code",
   "execution_count": 29,
   "metadata": {
    "colab": {
     "base_uri": "https://localhost:8080/",
     "height": 34
    },
    "colab_type": "code",
    "executionInfo": {
     "elapsed": 1067,
     "status": "ok",
     "timestamp": 1588731508465,
     "user": {
      "displayName": "S Tarun Prasad me17b114",
      "photoUrl": "",
      "userId": "15019596406314623392"
     },
     "user_tz": -330
    },
    "id": "g_Q_7fa8xWkQ",
    "outputId": "16ae11de-07f5-4a86-d260-622e3cde53a6"
   },
   "outputs": [
    {
     "data": {
      "text/plain": [
       "93"
      ]
     },
     "execution_count": 29,
     "metadata": {
      "tags": []
     },
     "output_type": "execute_result"
    }
   ],
   "source": [
    "test_dataset['Long'] = np.where(((test_dataset['labels']>=test_dataset['ON']) & (test_dataset['Pred']>= test_dataset['ON'])) \n",
    "                     , 1, np.nan)\n",
    "test_dataset[test_dataset.Long==1].shape[0]"
   ]
  },
  {
   "cell_type": "code",
   "execution_count": 31,
   "metadata": {
    "colab": {
     "base_uri": "https://localhost:8080/",
     "height": 34
    },
    "colab_type": "code",
    "executionInfo": {
     "elapsed": 1338,
     "status": "ok",
     "timestamp": 1588731563359,
     "user": {
      "displayName": "S Tarun Prasad me17b114",
      "photoUrl": "",
      "userId": "15019596406314623392"
     },
     "user_tz": -330
    },
    "id": "_oTSXPqPxxsk",
    "outputId": "90d6697c-28c7-4e0d-fe66-0eb1cd570359"
   },
   "outputs": [
    {
     "data": {
      "text/plain": [
       "145"
      ]
     },
     "execution_count": 31,
     "metadata": {
      "tags": []
     },
     "output_type": "execute_result"
    }
   ],
   "source": [
    "test_dataset['Short'] = np.where(((test_dataset['labels']<=test_dataset['ON']) & (test_dataset['Pred']<= test_dataset['ON'])) \n",
    "                     , 1, np.nan)\n",
    "test_dataset[test_dataset.Short==1].shape[0]"
   ]
  },
  {
   "cell_type": "code",
   "execution_count": 32,
   "metadata": {
    "colab": {
     "base_uri": "https://localhost:8080/",
     "height": 34
    },
    "colab_type": "code",
    "executionInfo": {
     "elapsed": 1417,
     "status": "ok",
     "timestamp": 1588731578859,
     "user": {
      "displayName": "S Tarun Prasad me17b114",
      "photoUrl": "",
      "userId": "15019596406314623392"
     },
     "user_tz": -330
    },
    "id": "AnJAAIi8x_ak",
    "outputId": "8d20b0ad-f209-45cc-e333-93710f9ce521"
   },
   "outputs": [
    {
     "data": {
      "text/plain": [
       "0.5421412300683371"
      ]
     },
     "execution_count": 32,
     "metadata": {
      "tags": []
     },
     "output_type": "execute_result"
    }
   ],
   "source": [
    "Accuracy=(test_dataset[test_dataset.Short==1].shape[0]+test_dataset[test_dataset.Long==1].shape[0])/len(test_dataset)\n",
    "Accuracy"
   ]
  }
 ],
 "metadata": {
  "colab": {
   "authorship_tag": "ABX9TyPRj6+dD45+uTtjRB/ZfTfU",
   "name": "Dabur.ipynb",
   "provenance": [],
   "toc_visible": true
  },
  "kernelspec": {
   "display_name": "Python 3",
   "language": "python",
   "name": "python3"
  },
  "language_info": {
   "codemirror_mode": {
    "name": "ipython",
    "version": 3
   },
   "file_extension": ".py",
   "mimetype": "text/x-python",
   "name": "python",
   "nbconvert_exporter": "python",
   "pygments_lexer": "ipython3",
   "version": "3.7.1"
  }
 },
 "nbformat": 4,
 "nbformat_minor": 1
}
